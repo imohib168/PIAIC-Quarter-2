{
 "cells": [
  {
   "cell_type": "markdown",
   "metadata": {},
   "source": [
    "# *Class 5:*"
   ]
  },
  {
   "cell_type": "markdown",
   "metadata": {},
   "source": [
    "### DataFrame:"
   ]
  },
  {
   "cell_type": "code",
   "execution_count": 1,
   "metadata": {},
   "outputs": [],
   "source": [
    "import pandas as pd\n",
    "import numpy as np"
   ]
  },
  {
   "cell_type": "code",
   "execution_count": 2,
   "metadata": {},
   "outputs": [
    {
     "name": "stdout",
     "output_type": "stream",
     "text": [
      "   Apples  Oranges\n",
      "0       1        4\n",
      "1       2        3\n",
      "2       3        2\n",
      "3       4        1\n"
     ]
    }
   ],
   "source": [
    "apples = pd.Series([1,2,3,4])\n",
    "oranges = pd.Series([4,3,2,1])\n",
    "data = {\"Apples\":apples,\"Oranges\":oranges}\n",
    "f = pd.DataFrame(data)\n",
    "print(f)"
   ]
  },
  {
   "cell_type": "code",
   "execution_count": 3,
   "metadata": {},
   "outputs": [
    {
     "name": "stdout",
     "output_type": "stream",
     "text": [
      "      Apples  Oranges\n",
      "A        1.0      NaN\n",
      "B        2.0      NaN\n",
      "C        3.0      NaN\n",
      "D        4.0      NaN\n",
      "Mon      NaN      4.0\n",
      "Thur     NaN      1.0\n",
      "Tue      NaN      3.0\n",
      "Wed      NaN      2.0\n"
     ]
    }
   ],
   "source": [
    "# Keep in Mind Index\n",
    "apples = pd.Series([1,2,3,4], index = [\"A\",\"B\",\"C\",\"D\"])\n",
    "oranges = pd.Series([4,3,2,1], index = [\"Mon\",\"Tue\",\"Wed\",\"Thur\"])\n",
    "\n",
    "data = {\"Apples\":apples,\"Oranges\":oranges}\n",
    "f = pd.DataFrame(data)\n",
    "print(f)"
   ]
  },
  {
   "cell_type": "code",
   "execution_count": 4,
   "metadata": {},
   "outputs": [
    {
     "name": "stdout",
     "output_type": "stream",
     "text": [
      "   Apples  Oranges\n",
      "A       1        4\n",
      "B       2        3\n",
      "C       3        2\n",
      "D       4        1\n"
     ]
    }
   ],
   "source": [
    "apples = pd.Series([1,2,3,4], index = [\"A\",\"B\",\"C\",\"D\"])\n",
    "oranges = pd.Series([4,3,2,1], index = [\"A\",\"B\",\"C\",\"D\"])\n",
    "\n",
    "data = {\"Apples\":apples,\"Oranges\":oranges}\n",
    "f = pd.DataFrame(data)\n",
    "print(f)"
   ]
  },
  {
   "cell_type": "code",
   "execution_count": 5,
   "metadata": {},
   "outputs": [
    {
     "name": "stdout",
     "output_type": "stream",
     "text": [
      "     State  Year  Pop\n",
      "0  Karachi  2000  1.5\n",
      "1  Karachi  2001  1.7\n",
      "2  Karachi  2002  3.6\n",
      "3   Lahore  2003  2.4\n",
      "4   Lahore  2004  2.9\n",
      "5   Lahore  2005  3.2\n"
     ]
    }
   ],
   "source": [
    "state = [\"Karachi\",\"Karachi\",\"Karachi\",\"Lahore\",\"Lahore\",\"Lahore\"]\n",
    "year = [2000,2001,2002,2003,2004,2005]\n",
    "pop = [1.5, 1.7, 3.6, 2.4, 2.9, 3.2]\n",
    "\n",
    "data = {\"State\":state,\"Year\":year,\"Pop\":pop}\n",
    "f = pd.DataFrame(data)\n",
    "print(f)"
   ]
  },
  {
   "cell_type": "code",
   "execution_count": 6,
   "metadata": {},
   "outputs": [
    {
     "name": "stdout",
     "output_type": "stream",
     "text": [
      "       State  Year  Pop\n",
      "1st  Karachi  2000  1.5\n",
      "2nd  Karachi  2001  1.7\n",
      "3rd  Karachi  2002  3.6\n",
      "4th   Lahore  2003  2.4\n",
      "5th   Lahore  2004  2.9\n",
      "6th   Lahore  2005  3.2\n"
     ]
    }
   ],
   "source": [
    "# Changing Index and shuffliing columns\n",
    "state = [\"Karachi\",\"Karachi\",\"Karachi\",\"Lahore\",\"Lahore\",\"Lahore\"]\n",
    "year = [2000,2001,2002,2003,2004,2005]\n",
    "pop = [1.5, 1.7, 3.6, 2.4, 2.9, 3.2]\n",
    "\n",
    "data = {\"State\":state,\"Year\":year,\"Pop\":pop}\n",
    "f = pd.DataFrame(data, index = [\"1st\",\"2nd\",\"3rd\",\"4th\",\"5th\",\"6th\"])\n",
    "print(f)"
   ]
  },
  {
   "cell_type": "code",
   "execution_count": 7,
   "metadata": {},
   "outputs": [
    {
     "name": "stdout",
     "output_type": "stream",
     "text": [
      "   Year    State  Pop\n",
      "0  2000  Karachi  1.5\n",
      "1  2001  Karachi  1.7\n",
      "2  2002  Karachi  3.6\n",
      "3  2003   Lahore  2.4\n",
      "4  2004   Lahore  2.9\n",
      "5  2005   Lahore  3.2\n"
     ]
    }
   ],
   "source": [
    "c = pd.DataFrame(data, columns = [\"Year\",\"State\",\"Pop\"])\n",
    "print(c)"
   ]
  },
  {
   "cell_type": "code",
   "execution_count": 8,
   "metadata": {},
   "outputs": [
    {
     "name": "stdout",
     "output_type": "stream",
     "text": [
      "   Year    State  Pop Debt\n",
      "0  2000  Karachi  1.5  NaN\n",
      "1  2001  Karachi  1.7  NaN\n",
      "2  2002  Karachi  3.6  NaN\n",
      "3  2003   Lahore  2.4  NaN\n",
      "4  2004   Lahore  2.9  NaN\n",
      "5  2005   Lahore  3.2  NaN\n"
     ]
    }
   ],
   "source": [
    "# Adding extra column \"Debt\" But in Debt every value will be \"NaN\"\n",
    "frame2 = pd.DataFrame(data, columns = [\"Year\",\"State\",\"Pop\",\"Debt\"])\n",
    "print(frame2)"
   ]
  },
  {
   "cell_type": "code",
   "execution_count": 9,
   "metadata": {},
   "outputs": [
    {
     "data": {
      "text/html": [
       "<div>\n",
       "<style scoped>\n",
       "    .dataframe tbody tr th:only-of-type {\n",
       "        vertical-align: middle;\n",
       "    }\n",
       "\n",
       "    .dataframe tbody tr th {\n",
       "        vertical-align: top;\n",
       "    }\n",
       "\n",
       "    .dataframe thead th {\n",
       "        text-align: right;\n",
       "    }\n",
       "</style>\n",
       "<table border=\"1\" class=\"dataframe\">\n",
       "  <thead>\n",
       "    <tr style=\"text-align: right;\">\n",
       "      <th></th>\n",
       "      <th>Year</th>\n",
       "      <th>State</th>\n",
       "      <th>Pop</th>\n",
       "      <th>Debt</th>\n",
       "    </tr>\n",
       "  </thead>\n",
       "  <tbody>\n",
       "    <tr>\n",
       "      <th>1st</th>\n",
       "      <td>2000</td>\n",
       "      <td>Karachi</td>\n",
       "      <td>1.5</td>\n",
       "      <td>NaN</td>\n",
       "    </tr>\n",
       "    <tr>\n",
       "      <th>2nd</th>\n",
       "      <td>2001</td>\n",
       "      <td>Karachi</td>\n",
       "      <td>1.7</td>\n",
       "      <td>NaN</td>\n",
       "    </tr>\n",
       "    <tr>\n",
       "      <th>3rd</th>\n",
       "      <td>2002</td>\n",
       "      <td>Karachi</td>\n",
       "      <td>3.6</td>\n",
       "      <td>NaN</td>\n",
       "    </tr>\n",
       "    <tr>\n",
       "      <th>4th</th>\n",
       "      <td>2003</td>\n",
       "      <td>Lahore</td>\n",
       "      <td>2.4</td>\n",
       "      <td>NaN</td>\n",
       "    </tr>\n",
       "    <tr>\n",
       "      <th>5th</th>\n",
       "      <td>2004</td>\n",
       "      <td>Lahore</td>\n",
       "      <td>2.9</td>\n",
       "      <td>NaN</td>\n",
       "    </tr>\n",
       "  </tbody>\n",
       "</table>\n",
       "</div>"
      ],
      "text/plain": [
       "     Year    State  Pop Debt\n",
       "1st  2000  Karachi  1.5  NaN\n",
       "2nd  2001  Karachi  1.7  NaN\n",
       "3rd  2002  Karachi  3.6  NaN\n",
       "4th  2003   Lahore  2.4  NaN\n",
       "5th  2004   Lahore  2.9  NaN"
      ]
     },
     "execution_count": 9,
     "metadata": {},
     "output_type": "execute_result"
    }
   ],
   "source": [
    "# df.head (It'll show you first 5 lines of your Data)\n",
    "frame2 = pd.DataFrame(data, columns = [\"Year\",\"State\",\"Pop\",\"Debt\"],\n",
    "                     index = [\"1st\",\"2nd\",\"3rd\",\"4th\",\"5th\",\"6th\"])\n",
    "frame2.head()"
   ]
  },
  {
   "cell_type": "code",
   "execution_count": 10,
   "metadata": {},
   "outputs": [
    {
     "name": "stdout",
     "output_type": "stream",
     "text": [
      "Index(['Year', 'State', 'Pop', 'Debt'], dtype='object')\n",
      "\n",
      "Index(['1st', '2nd', '3rd', '4th', '5th', '6th'], dtype='object')\n"
     ]
    }
   ],
   "source": [
    "# We can individually check index,column etc\n",
    "print(frame2.columns)\n",
    "print()\n",
    "print(frame2.index)"
   ]
  },
  {
   "cell_type": "code",
   "execution_count": 11,
   "metadata": {},
   "outputs": [
    {
     "data": {
      "text/plain": [
       "1st    Karachi\n",
       "2nd    Karachi\n",
       "3rd    Karachi\n",
       "4th     Lahore\n",
       "5th     Lahore\n",
       "6th     Lahore\n",
       "Name: State, dtype: object"
      ]
     },
     "execution_count": 11,
     "metadata": {},
     "output_type": "execute_result"
    }
   ],
   "source": [
    "#print(data)\n",
    "#data[\"State\"]\n",
    "\n",
    "frame2[\"State\"]"
   ]
  },
  {
   "cell_type": "code",
   "execution_count": 12,
   "metadata": {},
   "outputs": [
    {
     "data": {
      "text/plain": [
       "1st    2000\n",
       "2nd    2001\n",
       "3rd    2002\n",
       "4th    2003\n",
       "5th    2004\n",
       "6th    2005\n",
       "Name: Year, dtype: int64"
      ]
     },
     "execution_count": 12,
     "metadata": {},
     "output_type": "execute_result"
    }
   ],
   "source": [
    "frame2.Year"
   ]
  },
  {
   "cell_type": "code",
   "execution_count": 13,
   "metadata": {},
   "outputs": [
    {
     "name": "stdout",
     "output_type": "stream",
     "text": [
      "Year        2001\n",
      "State    Karachi\n",
      "Pop          1.7\n",
      "Debt         NaN\n",
      "Name: 2nd, dtype: object\n",
      "\n"
     ]
    },
    {
     "data": {
      "text/html": [
       "<div>\n",
       "<style scoped>\n",
       "    .dataframe tbody tr th:only-of-type {\n",
       "        vertical-align: middle;\n",
       "    }\n",
       "\n",
       "    .dataframe tbody tr th {\n",
       "        vertical-align: top;\n",
       "    }\n",
       "\n",
       "    .dataframe thead th {\n",
       "        text-align: right;\n",
       "    }\n",
       "</style>\n",
       "<table border=\"1\" class=\"dataframe\">\n",
       "  <thead>\n",
       "    <tr style=\"text-align: right;\">\n",
       "      <th></th>\n",
       "      <th>Year</th>\n",
       "      <th>State</th>\n",
       "      <th>Pop</th>\n",
       "      <th>Debt</th>\n",
       "    </tr>\n",
       "  </thead>\n",
       "  <tbody>\n",
       "    <tr>\n",
       "      <th>1st</th>\n",
       "      <td>2000</td>\n",
       "      <td>Karachi</td>\n",
       "      <td>1.5</td>\n",
       "      <td>NaN</td>\n",
       "    </tr>\n",
       "    <tr>\n",
       "      <th>2nd</th>\n",
       "      <td>2001</td>\n",
       "      <td>Karachi</td>\n",
       "      <td>1.7</td>\n",
       "      <td>NaN</td>\n",
       "    </tr>\n",
       "    <tr>\n",
       "      <th>3rd</th>\n",
       "      <td>2002</td>\n",
       "      <td>Karachi</td>\n",
       "      <td>3.6</td>\n",
       "      <td>NaN</td>\n",
       "    </tr>\n",
       "    <tr>\n",
       "      <th>4th</th>\n",
       "      <td>2003</td>\n",
       "      <td>Lahore</td>\n",
       "      <td>2.4</td>\n",
       "      <td>NaN</td>\n",
       "    </tr>\n",
       "    <tr>\n",
       "      <th>5th</th>\n",
       "      <td>2004</td>\n",
       "      <td>Lahore</td>\n",
       "      <td>2.9</td>\n",
       "      <td>NaN</td>\n",
       "    </tr>\n",
       "  </tbody>\n",
       "</table>\n",
       "</div>"
      ],
      "text/plain": [
       "     Year    State  Pop Debt\n",
       "1st  2000  Karachi  1.5  NaN\n",
       "2nd  2001  Karachi  1.7  NaN\n",
       "3rd  2002  Karachi  3.6  NaN\n",
       "4th  2003   Lahore  2.4  NaN\n",
       "5th  2004   Lahore  2.9  NaN"
      ]
     },
     "execution_count": 13,
     "metadata": {},
     "output_type": "execute_result"
    }
   ],
   "source": [
    "a = frame2.loc[\"2nd\"]\n",
    "print(a)\n",
    "print()\n",
    "frame2.head()"
   ]
  },
  {
   "cell_type": "code",
   "execution_count": 14,
   "metadata": {},
   "outputs": [
    {
     "data": {
      "text/html": [
       "<div>\n",
       "<style scoped>\n",
       "    .dataframe tbody tr th:only-of-type {\n",
       "        vertical-align: middle;\n",
       "    }\n",
       "\n",
       "    .dataframe tbody tr th {\n",
       "        vertical-align: top;\n",
       "    }\n",
       "\n",
       "    .dataframe thead th {\n",
       "        text-align: right;\n",
       "    }\n",
       "</style>\n",
       "<table border=\"1\" class=\"dataframe\">\n",
       "  <thead>\n",
       "    <tr style=\"text-align: right;\">\n",
       "      <th></th>\n",
       "      <th>Year</th>\n",
       "      <th>State</th>\n",
       "      <th>Pop</th>\n",
       "      <th>Debt</th>\n",
       "    </tr>\n",
       "  </thead>\n",
       "  <tbody>\n",
       "    <tr>\n",
       "      <th>1st</th>\n",
       "      <td>2000</td>\n",
       "      <td>Karachi</td>\n",
       "      <td>1.5</td>\n",
       "      <td>20</td>\n",
       "    </tr>\n",
       "    <tr>\n",
       "      <th>2nd</th>\n",
       "      <td>2001</td>\n",
       "      <td>Karachi</td>\n",
       "      <td>1.7</td>\n",
       "      <td>20</td>\n",
       "    </tr>\n",
       "    <tr>\n",
       "      <th>3rd</th>\n",
       "      <td>2002</td>\n",
       "      <td>Karachi</td>\n",
       "      <td>3.6</td>\n",
       "      <td>20</td>\n",
       "    </tr>\n",
       "    <tr>\n",
       "      <th>4th</th>\n",
       "      <td>2003</td>\n",
       "      <td>Lahore</td>\n",
       "      <td>2.4</td>\n",
       "      <td>20</td>\n",
       "    </tr>\n",
       "    <tr>\n",
       "      <th>5th</th>\n",
       "      <td>2004</td>\n",
       "      <td>Lahore</td>\n",
       "      <td>2.9</td>\n",
       "      <td>20</td>\n",
       "    </tr>\n",
       "  </tbody>\n",
       "</table>\n",
       "</div>"
      ],
      "text/plain": [
       "     Year    State  Pop  Debt\n",
       "1st  2000  Karachi  1.5    20\n",
       "2nd  2001  Karachi  1.7    20\n",
       "3rd  2002  Karachi  3.6    20\n",
       "4th  2003   Lahore  2.4    20\n",
       "5th  2004   Lahore  2.9    20"
      ]
     },
     "execution_count": 14,
     "metadata": {},
     "output_type": "execute_result"
    }
   ],
   "source": [
    "# the empty 'debt' column could be assigned a scalar value or an array of values\n",
    "frame2[\"Debt\"] = 20\n",
    "frame2.head()"
   ]
  },
  {
   "cell_type": "code",
   "execution_count": 15,
   "metadata": {},
   "outputs": [
    {
     "data": {
      "text/html": [
       "<div>\n",
       "<style scoped>\n",
       "    .dataframe tbody tr th:only-of-type {\n",
       "        vertical-align: middle;\n",
       "    }\n",
       "\n",
       "    .dataframe tbody tr th {\n",
       "        vertical-align: top;\n",
       "    }\n",
       "\n",
       "    .dataframe thead th {\n",
       "        text-align: right;\n",
       "    }\n",
       "</style>\n",
       "<table border=\"1\" class=\"dataframe\">\n",
       "  <thead>\n",
       "    <tr style=\"text-align: right;\">\n",
       "      <th></th>\n",
       "      <th>Year</th>\n",
       "      <th>State</th>\n",
       "      <th>Pop</th>\n",
       "      <th>Debt</th>\n",
       "    </tr>\n",
       "  </thead>\n",
       "  <tbody>\n",
       "    <tr>\n",
       "      <th>1st</th>\n",
       "      <td>2000</td>\n",
       "      <td>Karachi</td>\n",
       "      <td>1.5</td>\n",
       "      <td>0</td>\n",
       "    </tr>\n",
       "    <tr>\n",
       "      <th>2nd</th>\n",
       "      <td>2001</td>\n",
       "      <td>Karachi</td>\n",
       "      <td>1.7</td>\n",
       "      <td>1</td>\n",
       "    </tr>\n",
       "    <tr>\n",
       "      <th>3rd</th>\n",
       "      <td>2002</td>\n",
       "      <td>Karachi</td>\n",
       "      <td>3.6</td>\n",
       "      <td>2</td>\n",
       "    </tr>\n",
       "    <tr>\n",
       "      <th>4th</th>\n",
       "      <td>2003</td>\n",
       "      <td>Lahore</td>\n",
       "      <td>2.4</td>\n",
       "      <td>3</td>\n",
       "    </tr>\n",
       "    <tr>\n",
       "      <th>5th</th>\n",
       "      <td>2004</td>\n",
       "      <td>Lahore</td>\n",
       "      <td>2.9</td>\n",
       "      <td>4</td>\n",
       "    </tr>\n",
       "    <tr>\n",
       "      <th>6th</th>\n",
       "      <td>2005</td>\n",
       "      <td>Lahore</td>\n",
       "      <td>3.2</td>\n",
       "      <td>5</td>\n",
       "    </tr>\n",
       "  </tbody>\n",
       "</table>\n",
       "</div>"
      ],
      "text/plain": [
       "     Year    State  Pop  Debt\n",
       "1st  2000  Karachi  1.5     0\n",
       "2nd  2001  Karachi  1.7     1\n",
       "3rd  2002  Karachi  3.6     2\n",
       "4th  2003   Lahore  2.4     3\n",
       "5th  2004   Lahore  2.9     4\n",
       "6th  2005   Lahore  3.2     5"
      ]
     },
     "execution_count": 15,
     "metadata": {},
     "output_type": "execute_result"
    }
   ],
   "source": [
    "#frame2.head()\n",
    "ln = len(frame2)\n",
    "a = np.arange(ln)\n",
    "frame2[\"Debt\"] = a\n",
    "frame2"
   ]
  },
  {
   "cell_type": "code",
   "execution_count": 16,
   "metadata": {},
   "outputs": [
    {
     "data": {
      "text/html": [
       "<div>\n",
       "<style scoped>\n",
       "    .dataframe tbody tr th:only-of-type {\n",
       "        vertical-align: middle;\n",
       "    }\n",
       "\n",
       "    .dataframe tbody tr th {\n",
       "        vertical-align: top;\n",
       "    }\n",
       "\n",
       "    .dataframe thead th {\n",
       "        text-align: right;\n",
       "    }\n",
       "</style>\n",
       "<table border=\"1\" class=\"dataframe\">\n",
       "  <thead>\n",
       "    <tr style=\"text-align: right;\">\n",
       "      <th></th>\n",
       "      <th>Year</th>\n",
       "      <th>State</th>\n",
       "      <th>Pop</th>\n",
       "      <th>Debt</th>\n",
       "    </tr>\n",
       "  </thead>\n",
       "  <tbody>\n",
       "    <tr>\n",
       "      <th>1st</th>\n",
       "      <td>2000</td>\n",
       "      <td>Karachi</td>\n",
       "      <td>1.5</td>\n",
       "      <td>NaN</td>\n",
       "    </tr>\n",
       "    <tr>\n",
       "      <th>2nd</th>\n",
       "      <td>2001</td>\n",
       "      <td>Karachi</td>\n",
       "      <td>1.7</td>\n",
       "      <td>NaN</td>\n",
       "    </tr>\n",
       "    <tr>\n",
       "      <th>3rd</th>\n",
       "      <td>2002</td>\n",
       "      <td>Karachi</td>\n",
       "      <td>3.6</td>\n",
       "      <td>NaN</td>\n",
       "    </tr>\n",
       "    <tr>\n",
       "      <th>4th</th>\n",
       "      <td>2003</td>\n",
       "      <td>Lahore</td>\n",
       "      <td>2.4</td>\n",
       "      <td>NaN</td>\n",
       "    </tr>\n",
       "    <tr>\n",
       "      <th>5th</th>\n",
       "      <td>2004</td>\n",
       "      <td>Lahore</td>\n",
       "      <td>2.9</td>\n",
       "      <td>NaN</td>\n",
       "    </tr>\n",
       "    <tr>\n",
       "      <th>6th</th>\n",
       "      <td>2005</td>\n",
       "      <td>Lahore</td>\n",
       "      <td>3.2</td>\n",
       "      <td>NaN</td>\n",
       "    </tr>\n",
       "  </tbody>\n",
       "</table>\n",
       "</div>"
      ],
      "text/plain": [
       "     Year    State  Pop  Debt\n",
       "1st  2000  Karachi  1.5   NaN\n",
       "2nd  2001  Karachi  1.7   NaN\n",
       "3rd  2002  Karachi  3.6   NaN\n",
       "4th  2003   Lahore  2.4   NaN\n",
       "5th  2004   Lahore  2.9   NaN\n",
       "6th  2005   Lahore  3.2   NaN"
      ]
     },
     "execution_count": 16,
     "metadata": {},
     "output_type": "execute_result"
    }
   ],
   "source": [
    "# point to remember , inserting new values, needs to be match in length of dataFrame (number of elements)\n",
    "val = pd.Series([-1.2, -1.5, -1.7, -1.2, -1.5, -1.7, 2.2],\n",
    "               index = [\"One\",\"Two\",\"Three\",\"Four\",'Five',\"Six\",\"Seven\"])\n",
    "#print(val)\n",
    "frame2[\"Debt\"] = val\n",
    "frame2"
   ]
  },
  {
   "cell_type": "code",
   "execution_count": 17,
   "metadata": {},
   "outputs": [
    {
     "name": "stdout",
     "output_type": "stream",
     "text": [
      "0      blue\n",
      "3    purple\n",
      "6    yellow\n",
      "dtype: object\n",
      "0      blue\n",
      "1      blue\n",
      "2      blue\n",
      "3    purple\n",
      "4    purple\n",
      "5    purple\n",
      "6    yellow\n",
      "7    yellow\n",
      "8    yellow\n",
      "dtype: object\n",
      "2       blue\n",
      "3     purple\n",
      "4     purple\n",
      "5     purple\n",
      "6     yellow\n",
      "7     yellow\n",
      "8     yellow\n",
      "9     yellow\n",
      "10    yellow\n",
      "dtype: object\n"
     ]
    }
   ],
   "source": [
    "# index length must be equal to values ( or , do not provide index)\n",
    "obj3 = pd.Series(['blue', 'purple', 'yellow'], index=[0, 3, 6])\n",
    "print(obj3)\n",
    "#obj3 =obj3.reindex(range(9))\n",
    "#print(obj3)\n",
    "obj3 =obj3.reindex(range(9),method=\"ffill\")\n",
    "print(obj3)\n",
    "obj3 =obj3.reindex(range(2,11), method=\"ffill\")\n",
    "print(obj3)"
   ]
  },
  {
   "cell_type": "code",
   "execution_count": 18,
   "metadata": {},
   "outputs": [
    {
     "name": "stdout",
     "output_type": "stream",
     "text": [
      "   Ohio  Texas  California\n",
      "a     0      1           2\n",
      "b     3      4           5\n",
      "c     6      7           8\n",
      "\n",
      "   Ohio  Texas  California\n",
      "a     0      1           2\n",
      "b     3      4           5\n",
      "c     6      7           8\n",
      "d     6      7           8\n"
     ]
    }
   ],
   "source": [
    "states = pd.DataFrame(np.arange(9).reshape((3,3)),index = [\"a\",\"b\",\"c\"],columns = [\"Ohio\",\"Texas\",\"California\"])\n",
    "print(states)\n",
    "print()\n",
    "states = states.reindex([\"a\",\"b\",\"c\",\"d\"],method = \"ffill\")\n",
    "print(states)"
   ]
  },
  {
   "cell_type": "code",
   "execution_count": 19,
   "metadata": {},
   "outputs": [
    {
     "name": "stdout",
     "output_type": "stream",
     "text": [
      "   Ohio  Texas  California\n",
      "a     0      1           2\n",
      "b     3      4           5\n",
      "c     6      7           8\n",
      "\n",
      "   Texas  Utah  California  Ohio\n",
      "a      1   NaN           2     0\n",
      "b      4   NaN           5     3\n",
      "c      7   NaN           8     6\n"
     ]
    }
   ],
   "source": [
    "states = pd.DataFrame(np.arange(9).reshape((3,3)),index = [\"a\",\"b\",\"c\"],columns = [\"Ohio\",\"Texas\",\"California\"])\n",
    "print(states)\n",
    "print()\n",
    "states_name = ['Texas', 'Utah', 'California','Ohio']\n",
    "states = states.reindex(columns=states_name)\n",
    "print(states)"
   ]
  },
  {
   "cell_type": "code",
   "execution_count": 20,
   "metadata": {},
   "outputs": [
    {
     "name": "stdout",
     "output_type": "stream",
     "text": [
      "            One  Two  Three  Four\n",
      "Ohio          0    1      2     3\n",
      "Texas         4    5      6     7\n",
      "California    8    9     10    11\n",
      "New York     12   13     14    15\n",
      "\n",
      "            One  Two  Four\n",
      "Ohio          0    1     3\n",
      "Texas         4    5     7\n",
      "California    8    9    11\n",
      "New York     12   13    15\n"
     ]
    }
   ],
   "source": [
    "# Deleting data (row or column from dataframe) \n",
    "data2 = pd.DataFrame(np.arange(16).reshape((4,4)),\n",
    "                     index=[\"Ohio\",\"Texas\",\"California\",\"New York\"],columns=[\"One\",\"Two\",\"Three\",\"Four\"])\n",
    "print(data2)\n",
    "print()\n",
    "#data2.drop([\"California\", \"Ohio\"], inplace =True)\n",
    "#print(data2)\n",
    "\n",
    "#data2 = data2.drop(\"Three\",axis=1)\n",
    "data2.drop(\"Three\", axis=1, inplace = True)\n",
    "print(data2)"
   ]
  },
  {
   "cell_type": "code",
   "execution_count": 21,
   "metadata": {},
   "outputs": [
    {
     "name": "stdout",
     "output_type": "stream",
     "text": [
      "\n",
      "\n",
      "Ohio          False\n",
      "Texas          True\n",
      "California     True\n",
      "New York       True\n",
      "Name: Four, dtype: bool\n",
      "\n",
      "            One  Two  Three  Four\n",
      "Texas         4    5      6     7\n",
      "California    8    9     10    11\n",
      "New York     12   13     14    15\n"
     ]
    }
   ],
   "source": [
    "data2 = pd.DataFrame(np.arange(16).reshape((4,4)),\n",
    "                     index=[\"Ohio\",\"Texas\",\"California\",\"New York\"],columns=[\"One\",\"Two\",\"Three\",\"Four\"])\n",
    "#print(data2)\n",
    "print()\n",
    "df2 = data2[[\"One\",\"Three\"]]\n",
    "#print(df2)\n",
    "print()\n",
    "\n",
    "# Indexing same as Numpy\n",
    "a = data2[2:]\n",
    "#print(a)\n",
    "\n",
    "# dicitonary like style of accessing data\n",
    "b = data2[\"One\"]\n",
    "#print(b)\n",
    "\n",
    "# filter on both row and column\n",
    "c = data2.Three[2:]\n",
    "#print(c)\n",
    "\n",
    "# Conditonal Selection\n",
    "d = data2.Three[data2[\"Three\"] > 5]\n",
    "#print(d)\n",
    "\n",
    "#Boolean DatFrame\n",
    "df2 = data2[\"Four\"] > 5\n",
    "print(df2)\n",
    "print()\n",
    "\n",
    "print(data2[data2[\"Four\"] > 5])"
   ]
  },
  {
   "cell_type": "code",
   "execution_count": 22,
   "metadata": {},
   "outputs": [
    {
     "name": "stdout",
     "output_type": "stream",
     "text": [
      "            One  Two  Three  Four\n",
      "Ohio          0    1      2     3\n",
      "Texas         4    5      6     7\n",
      "California    8    9     10    11\n",
      "New York     12   13     14    15\n",
      "\n",
      "\n",
      "            One  Two\n",
      "Ohio          0    1\n",
      "Texas         4    5\n",
      "California    8    9\n",
      "New York     12   13\n"
     ]
    }
   ],
   "source": [
    "print(data2)\n",
    "print(\"\\n\")\n",
    "\n",
    "# in \"loc\" method specify row label first then specify column names\n",
    "a = data2.loc[[\"Ohio\",\"Texas\"],[\"Three\",\"Four\"]]\n",
    "#print(a)\n",
    "\n",
    "# in \"iloc\" use number instead of labels\n",
    "b = data2.iloc[2,[1,2,3]]\n",
    "#print(b)\n",
    "\n",
    "c = data2.iloc[:2,:4]\n",
    "#print(c)\n",
    "\n",
    "print(data2.iloc[: , :2])"
   ]
  },
  {
   "cell_type": "code",
   "execution_count": 23,
   "metadata": {},
   "outputs": [
    {
     "name": "stdout",
     "output_type": "stream",
     "text": [
      "            a     b   c   d   e\n",
      "Islamabad NaN  13.0 NaN NaN NaN\n",
      "KPK       NaN   NaN NaN NaN NaN\n",
      "Karachi   NaN   1.0 NaN NaN NaN\n",
      "Lahore    NaN   7.0 NaN NaN NaN\n",
      "              a       b     c     d     e\n",
      "Islamabad  5000    13.0  3000  2000  1000\n",
      "KPK        5000  4000.0  3000  2000  1000\n",
      "Karachi    5000     1.0  3000  2000  1000\n",
      "Lahore     5000     7.0  3000  2000  1000\n"
     ]
    }
   ],
   "source": [
    "df1 = pd.DataFrame(np.arange(9.).reshape((3, 3)), \n",
    "                   columns=list(\"abc\"), \n",
    "                   index=[\"Karachi\", \"Lahore\", \"Islamabad\"])\n",
    "\n",
    "df2 = pd.DataFrame(np.arange(12.).reshape((4, 3)), \n",
    "                   columns=list(\"bde\"),\n",
    "                    index=[\"Karachi\", \"Lahore\", \"Islamabad\",\"KPK\"])\n",
    "#print(df1, \"\\n\")\n",
    "#print(df2, \"\\n\")\n",
    "\n",
    "# applying plus operation between two data frames\n",
    "df3 = df1 + df2\n",
    "print(df3)\n",
    "\n",
    "df3[\"a\"] = 5000\n",
    "df3.loc[\"KPK\",\"b\"] = 4000\n",
    "df3[\"c\"] = 3000\n",
    "df3[\"d\"] = 2000\n",
    "df3[\"e\"] = 1000\n",
    "print(df3)"
   ]
  },
  {
   "cell_type": "code",
   "execution_count": 24,
   "metadata": {},
   "outputs": [
    {
     "name": "stdout",
     "output_type": "stream",
     "text": [
      "      a     b     c     d     e\n",
      "0   0.0   2.0   4.0   6.0   5.0\n",
      "1   9.0   6.0  13.0  15.0  10.0\n",
      "2  18.0  20.0  22.0  24.0  15.0\n",
      "3  16.0  17.0  18.0  19.0  20.0\n"
     ]
    }
   ],
   "source": [
    "df1 = pd.DataFrame(np.arange(12.).reshape((3, 4)),\n",
    "                   columns=list('abcd'))\n",
    "df2 = pd.DataFrame(np.arange(20.).reshape((4, 5)),\n",
    "                    columns=list('abcde'))\n",
    "#print(df1)\n",
    "#print(df2)\n",
    "\n",
    "df2.loc[1,\"b\"] = np.nan\n",
    "#print(df2)\n",
    "\n",
    "df3 = df1 + df2\n",
    "#print(df3)\n",
    "\n",
    "# We can use add method for filling NaN cells with a value\n",
    "# Nan will be replaced by 0 and then addition operation will apply\n",
    "\n",
    "df3 = df1.add(df2,fill_value = 1)\n",
    "print(df3)"
   ]
  },
  {
   "cell_type": "code",
   "execution_count": 25,
   "metadata": {},
   "outputs": [
    {
     "name": "stdout",
     "output_type": "stream",
     "text": [
      "          a     b     c\n",
      "Utah    0.0   1.0   2.0\n",
      "Ohio    3.0   4.0   5.0\n",
      "Texas   6.0   7.0   8.0\n",
      "Oregon  9.0  10.0  11.0 \n",
      "\n",
      "          a    b    c\n",
      "Utah   -1.0 -1.0 -1.0\n",
      "Ohio    2.0  2.0  2.0\n",
      "Texas   5.0  5.0  5.0\n",
      "Oregon  8.0  8.0  8.0\n"
     ]
    }
   ],
   "source": [
    "frame = pd.DataFrame(np.arange(12.).reshape((4, 3)),\n",
    "            columns=list(\"abc\"), \n",
    "                     index=[\"Utah\", \"Ohio\", \"Texas\", \"Oregon\"])\n",
    "#print(frame)\n",
    "series = frame.iloc[:]\n",
    "print(series, \"\\n\")\n",
    "# print(\"Values:\", series.values, \"\\n\")\n",
    "# print(\"Index:\", series.index, \"\\n\")\n",
    "\n",
    "#print(frame - series)\n",
    "\n",
    "series = pd.Series([1,2,3], index = list(\"abc\"))\n",
    "#print(\"Values:\", series.values, \"\\n\")\n",
    "#print(\"Index:\", series.index, \"\\n\")\n",
    "print(frame - series)"
   ]
  },
  {
   "cell_type": "code",
   "execution_count": 26,
   "metadata": {},
   "outputs": [
    {
     "name": "stdout",
     "output_type": "stream",
     "text": [
      "          a     b     c\n",
      "Utah    0.0   1.0   2.0\n",
      "Ohio    3.0   4.0   5.0\n",
      "Texas   6.0   7.0   8.0\n",
      "Oregon  9.0  10.0  11.0 \n",
      "\n",
      "       a     b     c\n",
      "min  9.0  10.0  11.0\n",
      "max  0.0   1.0   2.0\n"
     ]
    }
   ],
   "source": [
    "print(frame, \"\\n\")\n",
    "\n",
    "#print(frame[\"b\"]. min())\n",
    "#print(frame[\"b\"].max())\n",
    "#print(frame[\"a\"].max() - frame[\"c\"]. min())  # 8 -1 = 7\n",
    "\n",
    "f = lambda x: x.max() - x.min()\n",
    "#print(f)\n",
    "#df = frame.apply(f)\n",
    "#print(df, \"\\n\")\n",
    "#df = frame.apply(f, axis=1)\n",
    "#print(df, \"\\n\")\n",
    "\n",
    "def min_max(x):\n",
    "    return pd.Series( [x.max(), x.min() ], index=['min', 'max'])\n",
    "df = frame.apply(min_max)\n",
    "print(df)"
   ]
  },
  {
   "cell_type": "code",
   "execution_count": 27,
   "metadata": {},
   "outputs": [
    {
     "name": "stdout",
     "output_type": "stream",
     "text": [
      "     A  B  C  D\n",
      "Two  0  1  2  3\n",
      "One  4  5  6  7 \n",
      "\n",
      "     D  C  B  A\n",
      "Two  3  2  1  0\n",
      "One  7  6  5  4 \n",
      "\n",
      "     A  B  C  D\n",
      "One  4  5  6  7\n",
      "Two  0  1  2  3\n"
     ]
    }
   ],
   "source": [
    "frame = pd.DataFrame(np.arange(8).reshape((2, 4)),\n",
    "                     index=[\"Two\", \"One\"],\n",
    "                     columns=[\"A\",\"B\",\"C\",\"D\"])\n",
    "print(frame, \"\\n\")\n",
    "\n",
    "# defaults in sort: axis = 0, ascending = True\n",
    "print(frame.sort_index(axis = 1, ascending = False), \"\\n\")\n",
    "print(frame.sort_index())"
   ]
  },
  {
   "cell_type": "code",
   "execution_count": 28,
   "metadata": {},
   "outputs": [
    {
     "name": "stdout",
     "output_type": "stream",
     "text": [
      "     A  B  C  D\n",
      "Two  0  1  2  3\n",
      "One  4  5  6  7\n",
      "       A    B    C    D\n",
      "Two  2.0  2.0  2.0  2.0\n",
      "One  1.0  1.0  1.0  1.0\n",
      "       A    B    C    D\n",
      "Two  1.0  1.0  1.0  1.0\n",
      "One  2.0  2.0  2.0  2.0\n"
     ]
    }
   ],
   "source": [
    "# sort by values\n",
    "print(frame.sort_values(by=\"C\"))\n",
    "\n",
    "print(frame.rank(ascending = False, method = \"max\"))\n",
    "print(frame.rank(ascending = True, method = \"min\"))"
   ]
  },
  {
   "cell_type": "code",
   "execution_count": 29,
   "metadata": {},
   "outputs": [
    {
     "name": "stdout",
     "output_type": "stream",
     "text": [
      "   One  Two\n",
      "a  1.4  NaN\n",
      "b  7.1  7.2\n",
      "c  NaN  3.4\n",
      "d  NaN  NaN \n",
      "\n",
      "One     8.5\n",
      "Two    10.6\n",
      "dtype: float64 \n",
      "\n",
      "a     1.4\n",
      "b    14.3\n",
      "c     3.4\n",
      "d     0.0\n",
      "dtype: float64\n"
     ]
    }
   ],
   "source": [
    "#Summarizing and Computing Descriptive Statistics\n",
    "\n",
    "df = pd.DataFrame([[1.4,np.nan], [7.1,7.2],\n",
    "                  [np.nan,3.4], [np.nan,np.nan],\n",
    "                  ], index = [\"a\",\"b\",\"c\",\"d\"] ,columns = [\"One\",\"Two\"])\n",
    "print(df, \"\\n\")\n",
    "print(df.sum(), \"\\n\")\n",
    "print(df.sum(axis = \"columns\"))"
   ]
  },
  {
   "cell_type": "code",
   "execution_count": 30,
   "metadata": {},
   "outputs": [
    {
     "name": "stdout",
     "output_type": "stream",
     "text": [
      "a     NaN\n",
      "b    7.15\n",
      "c     NaN\n",
      "d     NaN\n",
      "dtype: float64\n"
     ]
    }
   ],
   "source": [
    "#print(df)\n",
    "a = df.mean(axis = \"columns\", skipna = False)\n",
    "print(a)"
   ]
  },
  {
   "cell_type": "code",
   "execution_count": 31,
   "metadata": {},
   "outputs": [
    {
     "name": "stdout",
     "output_type": "stream",
     "text": [
      "         A  B    C    D\n",
      "One    NaN  2  2.0  NaN\n",
      "Two    3.0  2  NaN  1.0\n",
      "Three  7.0  8  NaN  NaN\n",
      "Four   9.0  4  2.0  NaN \n",
      "\n",
      "[nan  3.  7.  9.] [nan  1.]\n",
      "\n"
     ]
    },
    {
     "data": {
      "text/plain": [
       "2.0    2\n",
       "Name: C, dtype: int64"
      ]
     },
     "execution_count": 31,
     "metadata": {},
     "output_type": "execute_result"
    }
   ],
   "source": [
    "ab = pd.DataFrame([[np.nan,2,2,np.nan],[3,2,np.nan,1],[7,8,np.nan,np.nan],[9,4,2,np.nan]],\n",
    "                 index = [\"One\",\"Two\",\"Three\",\"Four\"],columns = [\"A\",\"B\",\"C\",\"D\"])\n",
    "print(ab, \"\\n\")\n",
    "print(ab[\"A\"].unique(), ab[\"D\"].unique())\n",
    "print()\n",
    "ab[\"C\"].value_counts()"
   ]
  },
  {
   "cell_type": "markdown",
   "metadata": {},
   "source": [
    "# *Class 6:*"
   ]
  },
  {
   "cell_type": "code",
   "execution_count": 32,
   "metadata": {},
   "outputs": [
    {
     "name": "stdout",
     "output_type": "stream",
     "text": [
      "  studentid         name   chimestry   physics   english   math\n",
      "0       A01     arif ali          20        30        40     50\n",
      "1       A02  kamran khan          30        40        50     60\n",
      "2       A03   imran ali           40        50        60     70\n",
      "3       A04  kashif khan          50        60        70     80 \n",
      "\n",
      "\n",
      "    Id         Name  Chem  Phy  Eng  Math\n",
      "0  A01     arif ali    20   30   40    50\n",
      "1  A02  kamran khan    30   40   50    60\n",
      "2  A03   imran ali     40   50   60    70\n",
      "3  A04  kashif khan    50   60   70    80\n"
     ]
    }
   ],
   "source": [
    "import pandas as pd\n",
    "sample_df = pd.read_csv(\"examples/sample.csv\")\n",
    "print(sample_df,\"\\n\\n\")\n",
    "\n",
    "# we can change the column names while loading data\n",
    "sample_df = pd.read_csv(\"examples/sample.csv\",skiprows=1,\n",
    "                       names = [\"Id\",\"Name\",\"Chem\",\"Phy\",\"Eng\",\"Math\"])\n",
    "print(sample_df)"
   ]
  },
  {
   "cell_type": "markdown",
   "metadata": {},
   "source": [
    "### Hierarchal Index:"
   ]
  },
  {
   "cell_type": "code",
   "execution_count": 33,
   "metadata": {},
   "outputs": [
    {
     "name": "stdout",
     "output_type": "stream",
     "text": [
      "  key1 key2  value1  value2\n",
      "0  one    a       1       2\n",
      "1  one    b       3       4\n",
      "2  one    c       5       6\n",
      "3  one    d       7       8\n",
      "4  two    a       9      10\n",
      "5  two    b      11      12\n",
      "6  two    c      13      14\n",
      "7  two    d      15      16\n"
     ]
    },
    {
     "data": {
      "text/html": [
       "<div>\n",
       "<style scoped>\n",
       "    .dataframe tbody tr th:only-of-type {\n",
       "        vertical-align: middle;\n",
       "    }\n",
       "\n",
       "    .dataframe tbody tr th {\n",
       "        vertical-align: top;\n",
       "    }\n",
       "\n",
       "    .dataframe thead th {\n",
       "        text-align: right;\n",
       "    }\n",
       "</style>\n",
       "<table border=\"1\" class=\"dataframe\">\n",
       "  <thead>\n",
       "    <tr style=\"text-align: right;\">\n",
       "      <th></th>\n",
       "      <th></th>\n",
       "      <th>value1</th>\n",
       "      <th>value2</th>\n",
       "    </tr>\n",
       "    <tr>\n",
       "      <th>key1</th>\n",
       "      <th>key2</th>\n",
       "      <th></th>\n",
       "      <th></th>\n",
       "    </tr>\n",
       "  </thead>\n",
       "  <tbody>\n",
       "    <tr>\n",
       "      <th rowspan=\"4\" valign=\"top\">one</th>\n",
       "      <th>a</th>\n",
       "      <td>1</td>\n",
       "      <td>2</td>\n",
       "    </tr>\n",
       "    <tr>\n",
       "      <th>b</th>\n",
       "      <td>3</td>\n",
       "      <td>4</td>\n",
       "    </tr>\n",
       "    <tr>\n",
       "      <th>c</th>\n",
       "      <td>5</td>\n",
       "      <td>6</td>\n",
       "    </tr>\n",
       "    <tr>\n",
       "      <th>d</th>\n",
       "      <td>7</td>\n",
       "      <td>8</td>\n",
       "    </tr>\n",
       "    <tr>\n",
       "      <th rowspan=\"4\" valign=\"top\">two</th>\n",
       "      <th>a</th>\n",
       "      <td>9</td>\n",
       "      <td>10</td>\n",
       "    </tr>\n",
       "    <tr>\n",
       "      <th>b</th>\n",
       "      <td>11</td>\n",
       "      <td>12</td>\n",
       "    </tr>\n",
       "    <tr>\n",
       "      <th>c</th>\n",
       "      <td>13</td>\n",
       "      <td>14</td>\n",
       "    </tr>\n",
       "    <tr>\n",
       "      <th>d</th>\n",
       "      <td>15</td>\n",
       "      <td>16</td>\n",
       "    </tr>\n",
       "  </tbody>\n",
       "</table>\n",
       "</div>"
      ],
      "text/plain": [
       "           value1  value2\n",
       "key1 key2                \n",
       "one  a          1       2\n",
       "     b          3       4\n",
       "     c          5       6\n",
       "     d          7       8\n",
       "two  a          9      10\n",
       "     b         11      12\n",
       "     c         13      14\n",
       "     d         15      16"
      ]
     },
     "execution_count": 33,
     "metadata": {},
     "output_type": "execute_result"
    }
   ],
   "source": [
    "s2_df = pd.read_csv(\"examples/sample2.csv\")\n",
    "print(s2_df)\n",
    "# we have to specifiy which column will be used as index\n",
    "parsed = pd.read_csv(\"examples/sample2.csv\",\n",
    "                     index_col=['key1', 'key2'])\n",
    "parsed\n",
    "#s2_df"
   ]
  },
  {
   "cell_type": "markdown",
   "metadata": {},
   "source": [
    "### Handling Missing Values"
   ]
  },
  {
   "cell_type": "code",
   "execution_count": 34,
   "metadata": {},
   "outputs": [
    {
     "name": "stdout",
     "output_type": "stream",
     "text": [
      "  something  a   b     c   d message\n",
      "0       one  1   2   3.0   4     NaN\n",
      "1       two  5   6   NaN   8   world\n",
      "2     three  9  10  11.0  12     foo\n"
     ]
    },
    {
     "data": {
      "text/html": [
       "<div>\n",
       "<style scoped>\n",
       "    .dataframe tbody tr th:only-of-type {\n",
       "        vertical-align: middle;\n",
       "    }\n",
       "\n",
       "    .dataframe tbody tr th {\n",
       "        vertical-align: top;\n",
       "    }\n",
       "\n",
       "    .dataframe thead th {\n",
       "        text-align: right;\n",
       "    }\n",
       "</style>\n",
       "<table border=\"1\" class=\"dataframe\">\n",
       "  <thead>\n",
       "    <tr style=\"text-align: right;\">\n",
       "      <th></th>\n",
       "      <th>something</th>\n",
       "      <th>a</th>\n",
       "      <th>b</th>\n",
       "      <th>c</th>\n",
       "      <th>d</th>\n",
       "      <th>message</th>\n",
       "    </tr>\n",
       "  </thead>\n",
       "  <tbody>\n",
       "    <tr>\n",
       "      <th>0</th>\n",
       "      <td>one</td>\n",
       "      <td>1</td>\n",
       "      <td>2</td>\n",
       "      <td>3.0</td>\n",
       "      <td>4</td>\n",
       "      <td>NaN</td>\n",
       "    </tr>\n",
       "    <tr>\n",
       "      <th>1</th>\n",
       "      <td>two</td>\n",
       "      <td>5</td>\n",
       "      <td>6</td>\n",
       "      <td>NaN</td>\n",
       "      <td>8</td>\n",
       "      <td>world</td>\n",
       "    </tr>\n",
       "    <tr>\n",
       "      <th>2</th>\n",
       "      <td>three</td>\n",
       "      <td>9</td>\n",
       "      <td>10</td>\n",
       "      <td>11.0</td>\n",
       "      <td>12</td>\n",
       "      <td>NaN</td>\n",
       "    </tr>\n",
       "  </tbody>\n",
       "</table>\n",
       "</div>"
      ],
      "text/plain": [
       "  something  a   b     c   d message\n",
       "0       one  1   2   3.0   4     NaN\n",
       "1       two  5   6   NaN   8   world\n",
       "2     three  9  10  11.0  12     NaN"
      ]
     },
     "execution_count": 34,
     "metadata": {},
     "output_type": "execute_result"
    }
   ],
   "source": [
    "c = pd.read_csv(\"examples/sample3.csv\")\n",
    "print(c)\n",
    "\n",
    "d = {\"message\": [\"foo\", \"NA\"]}\n",
    "pd.read_csv('examples/sample3.csv', na_values=d)"
   ]
  },
  {
   "cell_type": "markdown",
   "metadata": {},
   "source": [
    "### Reading and Text Files in Pieces"
   ]
  },
  {
   "cell_type": "code",
   "execution_count": 35,
   "metadata": {},
   "outputs": [],
   "source": [
    "frame = pd.read_csv(\"examples/train.csv\",nrows=200)\n",
    "#frame"
   ]
  },
  {
   "cell_type": "code",
   "execution_count": 36,
   "metadata": {},
   "outputs": [
    {
     "name": "stdout",
     "output_type": "stream",
     "text": [
      "<pandas.io.parsers.TextFileReader object at 0x000001F18679B860>\n",
      "500\n",
      "500\n",
      "500\n",
      "500\n"
     ]
    },
    {
     "data": {
      "text/html": [
       "<div>\n",
       "<style scoped>\n",
       "    .dataframe tbody tr th:only-of-type {\n",
       "        vertical-align: middle;\n",
       "    }\n",
       "\n",
       "    .dataframe tbody tr th {\n",
       "        vertical-align: top;\n",
       "    }\n",
       "\n",
       "    .dataframe thead th {\n",
       "        text-align: right;\n",
       "    }\n",
       "</style>\n",
       "<table border=\"1\" class=\"dataframe\">\n",
       "  <thead>\n",
       "    <tr style=\"text-align: right;\">\n",
       "      <th></th>\n",
       "      <th>battery_power</th>\n",
       "      <th>blue</th>\n",
       "      <th>clock_speed</th>\n",
       "      <th>dual_sim</th>\n",
       "      <th>fc</th>\n",
       "      <th>four_g</th>\n",
       "      <th>int_memory</th>\n",
       "      <th>m_dep</th>\n",
       "      <th>mobile_wt</th>\n",
       "      <th>n_cores</th>\n",
       "      <th>...</th>\n",
       "      <th>px_height</th>\n",
       "      <th>px_width</th>\n",
       "      <th>ram</th>\n",
       "      <th>sc_h</th>\n",
       "      <th>sc_w</th>\n",
       "      <th>talk_time</th>\n",
       "      <th>three_g</th>\n",
       "      <th>touch_screen</th>\n",
       "      <th>wifi</th>\n",
       "      <th>price_range</th>\n",
       "    </tr>\n",
       "  </thead>\n",
       "  <tbody>\n",
       "    <tr>\n",
       "      <th>500</th>\n",
       "      <td>1278</td>\n",
       "      <td>1</td>\n",
       "      <td>0.5</td>\n",
       "      <td>1</td>\n",
       "      <td>1</td>\n",
       "      <td>0</td>\n",
       "      <td>54</td>\n",
       "      <td>0.1</td>\n",
       "      <td>104</td>\n",
       "      <td>8</td>\n",
       "      <td>...</td>\n",
       "      <td>581</td>\n",
       "      <td>750</td>\n",
       "      <td>1155</td>\n",
       "      <td>7</td>\n",
       "      <td>1</td>\n",
       "      <td>20</td>\n",
       "      <td>0</td>\n",
       "      <td>0</td>\n",
       "      <td>1</td>\n",
       "      <td>0</td>\n",
       "    </tr>\n",
       "    <tr>\n",
       "      <th>501</th>\n",
       "      <td>1773</td>\n",
       "      <td>1</td>\n",
       "      <td>2.5</td>\n",
       "      <td>0</td>\n",
       "      <td>16</td>\n",
       "      <td>1</td>\n",
       "      <td>32</td>\n",
       "      <td>0.6</td>\n",
       "      <td>170</td>\n",
       "      <td>6</td>\n",
       "      <td>...</td>\n",
       "      <td>1215</td>\n",
       "      <td>1472</td>\n",
       "      <td>3566</td>\n",
       "      <td>17</td>\n",
       "      <td>6</td>\n",
       "      <td>13</td>\n",
       "      <td>1</td>\n",
       "      <td>0</td>\n",
       "      <td>1</td>\n",
       "      <td>3</td>\n",
       "    </tr>\n",
       "    <tr>\n",
       "      <th>502</th>\n",
       "      <td>1661</td>\n",
       "      <td>1</td>\n",
       "      <td>0.8</td>\n",
       "      <td>1</td>\n",
       "      <td>1</td>\n",
       "      <td>1</td>\n",
       "      <td>6</td>\n",
       "      <td>1.0</td>\n",
       "      <td>109</td>\n",
       "      <td>7</td>\n",
       "      <td>...</td>\n",
       "      <td>594</td>\n",
       "      <td>1337</td>\n",
       "      <td>864</td>\n",
       "      <td>9</td>\n",
       "      <td>8</td>\n",
       "      <td>2</td>\n",
       "      <td>1</td>\n",
       "      <td>0</td>\n",
       "      <td>1</td>\n",
       "      <td>1</td>\n",
       "    </tr>\n",
       "    <tr>\n",
       "      <th>503</th>\n",
       "      <td>1438</td>\n",
       "      <td>0</td>\n",
       "      <td>2.2</td>\n",
       "      <td>0</td>\n",
       "      <td>0</td>\n",
       "      <td>1</td>\n",
       "      <td>32</td>\n",
       "      <td>0.6</td>\n",
       "      <td>176</td>\n",
       "      <td>7</td>\n",
       "      <td>...</td>\n",
       "      <td>683</td>\n",
       "      <td>1663</td>\n",
       "      <td>869</td>\n",
       "      <td>19</td>\n",
       "      <td>13</td>\n",
       "      <td>9</td>\n",
       "      <td>1</td>\n",
       "      <td>1</td>\n",
       "      <td>1</td>\n",
       "      <td>0</td>\n",
       "    </tr>\n",
       "    <tr>\n",
       "      <th>504</th>\n",
       "      <td>1661</td>\n",
       "      <td>1</td>\n",
       "      <td>1.4</td>\n",
       "      <td>0</td>\n",
       "      <td>0</td>\n",
       "      <td>0</td>\n",
       "      <td>29</td>\n",
       "      <td>0.3</td>\n",
       "      <td>119</td>\n",
       "      <td>2</td>\n",
       "      <td>...</td>\n",
       "      <td>536</td>\n",
       "      <td>861</td>\n",
       "      <td>591</td>\n",
       "      <td>9</td>\n",
       "      <td>2</td>\n",
       "      <td>9</td>\n",
       "      <td>1</td>\n",
       "      <td>1</td>\n",
       "      <td>1</td>\n",
       "      <td>0</td>\n",
       "    </tr>\n",
       "  </tbody>\n",
       "</table>\n",
       "<p>5 rows × 21 columns</p>\n",
       "</div>"
      ],
      "text/plain": [
       "     battery_power  blue  clock_speed  dual_sim  fc  four_g  int_memory  \\\n",
       "500           1278     1          0.5         1   1       0          54   \n",
       "501           1773     1          2.5         0  16       1          32   \n",
       "502           1661     1          0.8         1   1       1           6   \n",
       "503           1438     0          2.2         0   0       1          32   \n",
       "504           1661     1          1.4         0   0       0          29   \n",
       "\n",
       "     m_dep  mobile_wt  n_cores  ...  px_height  px_width   ram  sc_h  sc_w  \\\n",
       "500    0.1        104        8  ...        581       750  1155     7     1   \n",
       "501    0.6        170        6  ...       1215      1472  3566    17     6   \n",
       "502    1.0        109        7  ...        594      1337   864     9     8   \n",
       "503    0.6        176        7  ...        683      1663   869    19    13   \n",
       "504    0.3        119        2  ...        536       861   591     9     2   \n",
       "\n",
       "     talk_time  three_g  touch_screen  wifi  price_range  \n",
       "500         20        0             0     1            0  \n",
       "501         13        1             0     1            3  \n",
       "502          2        1             0     1            1  \n",
       "503          9        1             1     1            0  \n",
       "504          9        1             1     1            0  \n",
       "\n",
       "[5 rows x 21 columns]"
      ]
     },
     "execution_count": 36,
     "metadata": {},
     "output_type": "execute_result"
    }
   ],
   "source": [
    "chunks = pd.read_csv(\"examples/train.csv\",chunksize=500)\n",
    "print(chunks)\n",
    "\n",
    "chunklist = []\n",
    "for chunk in chunks:\n",
    "    print(len(chunk))\n",
    "    chunklist.append(chunk)\n",
    "df = chunklist[1]\n",
    "#print(\"Length: \",len(chunklist))\n",
    "df.head()"
   ]
  },
  {
   "cell_type": "code",
   "execution_count": 37,
   "metadata": {},
   "outputs": [
    {
     "name": "stdout",
     "output_type": "stream",
     "text": [
      "['            A         B         C\\n', 'aaa -0.264438 -1.026059 -0.619500\\n', 'bbb  0.927272  0.302904 -0.032399\\n', 'ccc -0.264273 -0.386314 -0.217601\\n', 'ddd -0.871858 -0.348382  1.100491\\n']\n"
     ]
    },
    {
     "data": {
      "text/html": [
       "<div>\n",
       "<style scoped>\n",
       "    .dataframe tbody tr th:only-of-type {\n",
       "        vertical-align: middle;\n",
       "    }\n",
       "\n",
       "    .dataframe tbody tr th {\n",
       "        vertical-align: top;\n",
       "    }\n",
       "\n",
       "    .dataframe thead th {\n",
       "        text-align: right;\n",
       "    }\n",
       "</style>\n",
       "<table border=\"1\" class=\"dataframe\">\n",
       "  <thead>\n",
       "    <tr style=\"text-align: right;\">\n",
       "      <th></th>\n",
       "      <th>A</th>\n",
       "      <th>B</th>\n",
       "      <th>C</th>\n",
       "    </tr>\n",
       "  </thead>\n",
       "  <tbody>\n",
       "    <tr>\n",
       "      <th>aaa</th>\n",
       "      <td>-0.264438</td>\n",
       "      <td>-1.026059</td>\n",
       "      <td>-0.619500</td>\n",
       "    </tr>\n",
       "    <tr>\n",
       "      <th>bbb</th>\n",
       "      <td>0.927272</td>\n",
       "      <td>0.302904</td>\n",
       "      <td>-0.032399</td>\n",
       "    </tr>\n",
       "    <tr>\n",
       "      <th>ccc</th>\n",
       "      <td>-0.264273</td>\n",
       "      <td>-0.386314</td>\n",
       "      <td>-0.217601</td>\n",
       "    </tr>\n",
       "    <tr>\n",
       "      <th>ddd</th>\n",
       "      <td>-0.871858</td>\n",
       "      <td>-0.348382</td>\n",
       "      <td>1.100491</td>\n",
       "    </tr>\n",
       "  </tbody>\n",
       "</table>\n",
       "</div>"
      ],
      "text/plain": [
       "            A         B         C\n",
       "aaa -0.264438 -1.026059 -0.619500\n",
       "bbb  0.927272  0.302904 -0.032399\n",
       "ccc -0.264273 -0.386314 -0.217601\n",
       "ddd -0.871858 -0.348382  1.100491"
      ]
     },
     "execution_count": 37,
     "metadata": {},
     "output_type": "execute_result"
    }
   ],
   "source": [
    "data = list(open('examples/ex3.txt'))\n",
    "print(data)\n",
    "# use spaces (one or more ) as delimiter \n",
    "result = pd.read_csv('examples/ex3.txt', sep='\\s+')\n",
    "result"
   ]
  },
  {
   "cell_type": "code",
   "execution_count": 39,
   "metadata": {},
   "outputs": [
    {
     "data": {
      "text/html": [
       "<div>\n",
       "<style scoped>\n",
       "    .dataframe tbody tr th:only-of-type {\n",
       "        vertical-align: middle;\n",
       "    }\n",
       "\n",
       "    .dataframe tbody tr th {\n",
       "        vertical-align: top;\n",
       "    }\n",
       "\n",
       "    .dataframe thead th {\n",
       "        text-align: right;\n",
       "    }\n",
       "</style>\n",
       "<table border=\"1\" class=\"dataframe\">\n",
       "  <thead>\n",
       "    <tr style=\"text-align: right;\">\n",
       "      <th></th>\n",
       "      <th>a</th>\n",
       "      <th>b</th>\n",
       "      <th>c</th>\n",
       "      <th>d</th>\n",
       "      <th>message</th>\n",
       "    </tr>\n",
       "  </thead>\n",
       "  <tbody>\n",
       "    <tr>\n",
       "      <th>0</th>\n",
       "      <td>1</td>\n",
       "      <td>2</td>\n",
       "      <td>3</td>\n",
       "      <td>4</td>\n",
       "      <td>hello</td>\n",
       "    </tr>\n",
       "    <tr>\n",
       "      <th>1</th>\n",
       "      <td>5</td>\n",
       "      <td>6</td>\n",
       "      <td>7</td>\n",
       "      <td>8</td>\n",
       "      <td>world</td>\n",
       "    </tr>\n",
       "    <tr>\n",
       "      <th>2</th>\n",
       "      <td>9</td>\n",
       "      <td>10</td>\n",
       "      <td>11</td>\n",
       "      <td>12</td>\n",
       "      <td>foo</td>\n",
       "    </tr>\n",
       "  </tbody>\n",
       "</table>\n",
       "</div>"
      ],
      "text/plain": [
       "   a   b   c   d message\n",
       "0  1   2   3   4   hello\n",
       "1  5   6   7   8   world\n",
       "2  9  10  11  12     foo"
      ]
     },
     "execution_count": 39,
     "metadata": {},
     "output_type": "execute_result"
    }
   ],
   "source": [
    "df = pd.read_csv(\"examples/ex4.csv\")\n",
    "#df\n",
    "df = pd.read_csv(\"examples/ex4.csv\",skiprows = [0,2,3])\n",
    "df"
   ]
  },
  {
   "cell_type": "code",
   "execution_count": 47,
   "metadata": {},
   "outputs": [
    {
     "name": "stdout",
     "output_type": "stream",
     "text": [
      "  something  a   b     c   d message\n",
      "0       one  1   2   3.0   4     NaN\n",
      "1       two  5   6   NaN   8   world\n",
      "2     three  9  10  11.0  12     foo\n"
     ]
    }
   ],
   "source": [
    "data = pd.read_csv('examples/ex5.csv')\n",
    "print(data)\n",
    "data.to_csv('examples/out.csv')"
   ]
  },
  {
   "cell_type": "code",
   "execution_count": 57,
   "metadata": {},
   "outputs": [
    {
     "data": {
      "text/plain": [
       "2000-01-01    0\n",
       "2000-01-02    1\n",
       "2000-01-03    2\n",
       "2000-01-04    3\n",
       "2000-01-05    4\n",
       "2000-01-06    5\n",
       "2000-01-07    6\n",
       "Freq: D, dtype: int32"
      ]
     },
     "execution_count": 57,
     "metadata": {},
     "output_type": "execute_result"
    }
   ],
   "source": [
    "dates = pd.date_range(\"1/1/2000\", periods=7)\n",
    "#dates\n",
    "a = pd.Series(np.arange(7),index=dates)\n",
    "a"
   ]
  },
  {
   "cell_type": "markdown",
   "metadata": {},
   "source": [
    "### JSON Data:"
   ]
  },
  {
   "cell_type": "code",
   "execution_count": 60,
   "metadata": {},
   "outputs": [
    {
     "data": {
      "text/html": [
       "<div>\n",
       "<style scoped>\n",
       "    .dataframe tbody tr th:only-of-type {\n",
       "        vertical-align: middle;\n",
       "    }\n",
       "\n",
       "    .dataframe tbody tr th {\n",
       "        vertical-align: top;\n",
       "    }\n",
       "\n",
       "    .dataframe thead th {\n",
       "        text-align: right;\n",
       "    }\n",
       "</style>\n",
       "<table border=\"1\" class=\"dataframe\">\n",
       "  <thead>\n",
       "    <tr style=\"text-align: right;\">\n",
       "      <th></th>\n",
       "      <th>a</th>\n",
       "      <th>b</th>\n",
       "      <th>c</th>\n",
       "    </tr>\n",
       "  </thead>\n",
       "  <tbody>\n",
       "    <tr>\n",
       "      <th>0</th>\n",
       "      <td>1</td>\n",
       "      <td>2</td>\n",
       "      <td>3</td>\n",
       "    </tr>\n",
       "    <tr>\n",
       "      <th>1</th>\n",
       "      <td>4</td>\n",
       "      <td>5</td>\n",
       "      <td>6</td>\n",
       "    </tr>\n",
       "    <tr>\n",
       "      <th>2</th>\n",
       "      <td>7</td>\n",
       "      <td>8</td>\n",
       "      <td>9</td>\n",
       "    </tr>\n",
       "  </tbody>\n",
       "</table>\n",
       "</div>"
      ],
      "text/plain": [
       "   a  b  c\n",
       "0  1  2  3\n",
       "1  4  5  6\n",
       "2  7  8  9"
      ]
     },
     "execution_count": 60,
     "metadata": {},
     "output_type": "execute_result"
    }
   ],
   "source": [
    "obj = \"\"\"\n",
    "{\"name\": \"Wes\",\n",
    "\"places_lived\": [\"United States\", \"Spain\", \"Germany\"],\n",
    "\"pet\": null,\n",
    "\"siblings\": [{\"name\": \"Scott\", \"age\": 30, \"pets\": [\"Zeus\", \"Zuko\"]},\n",
    "{\"name\": \"Katie\", \"age\": 38,\n",
    "\"pets\": [\"Sixes\", \"Stache\", \"Cisco\"]}]\n",
    "}\n",
    "\"\"\"\n",
    "#print(obj)\n",
    "data = pd.read_json('examples/example.json')\n",
    "data"
   ]
  },
  {
   "cell_type": "markdown",
   "metadata": {},
   "source": [
    "### XML and HTML: Web data loading in to dataframe:"
   ]
  },
  {
   "cell_type": "code",
   "execution_count": 79,
   "metadata": {},
   "outputs": [
    {
     "name": "stdout",
     "output_type": "stream",
     "text": [
      "<class 'list'>\n",
      "1 \n",
      "\n",
      "<class 'pandas.core.frame.DataFrame'> \n",
      "\n",
      "(547, 7) \n",
      "\n",
      "Index(['Bank Name', 'City', 'ST', 'CERT', 'Acquiring Institution',\n",
      "       'Closing Date', 'Updated Date'],\n",
      "      dtype='object') \n",
      "\n",
      "547 \n",
      "\n",
      "0           Mulberry\n",
      "1           Woodbury\n",
      "2    King of Prussia\n",
      "3            Memphis\n",
      "4          Milwaukee\n",
      "Name: City, dtype: object n\n",
      "0                     Allied Bank\n",
      "1    The Woodbury Banking Company\n",
      "2          First CornerStone Bank\n",
      "3              Trust Company Bank\n",
      "4      North Milwaukee State Bank\n",
      "Name: Bank Name, dtype: object \n",
      "\n",
      "                      Bank Name             City  ST   CERT  \\\n",
      "0                   Allied Bank         Mulberry  AR     91   \n",
      "1  The Woodbury Banking Company         Woodbury  GA  11297   \n",
      "2        First CornerStone Bank  King of Prussia  PA  35312   \n",
      "3            Trust Company Bank          Memphis  TN   9956   \n",
      "4    North Milwaukee State Bank        Milwaukee  WI  20364   \n",
      "\n",
      "                 Acquiring Institution        Closing Date       Updated Date  \n",
      "0                         Today's Bank  September 23, 2016  November 17, 2016  \n",
      "1                          United Bank     August 19, 2016  November 17, 2016  \n",
      "2  First-Citizens Bank & Trust Company         May 6, 2016  September 6, 2016  \n",
      "3           The Bank of Fayette County      April 29, 2016  September 6, 2016  \n",
      "4  First-Citizens Bank & Trust Company      March 11, 2016      June 16, 2016  \n"
     ]
    }
   ],
   "source": [
    "#conda install lxml\n",
    "# conda install -c anaconda beautifulsoup4 \n",
    "# htconda install -c anaconda html5lib\n",
    "t = pd.read_html(\"examples/fdic_failed_bank_list.html\")\n",
    "print(type(t))\n",
    "print(len(t),\"\\n\")\n",
    "f = t[0]\n",
    "print(type(f),\"\\n\")\n",
    "print(f.shape,\"\\n\")\n",
    "print(f.columns,\"\\n\")\n",
    "print(len(f),\"\\n\")\n",
    "\n",
    "print(f[\"City\"].head(),\"n\")\n",
    "print(f[\"Bank Name\"].head(),\"\\n\")\n",
    "print(f.head())"
   ]
  },
  {
   "cell_type": "code",
   "execution_count": 80,
   "metadata": {},
   "outputs": [
    {
     "name": "stdout",
     "output_type": "stream",
     "text": [
      "<class 'pandas.core.series.Series'> 0   2016-09-23\n",
      "1   2016-08-19\n",
      "2   2016-05-06\n",
      "3   2016-04-29\n",
      "4   2016-03-11\n",
      "Name: Closing Date, dtype: datetime64[ns]\n"
     ]
    }
   ],
   "source": [
    "# for large and complicated dataframe, try to extract\n",
    "# data as series for review and analysis\n",
    "# here we converted a column into a new series of date type\n",
    "c = pd.to_datetime(f['Closing Date'])\n",
    "print(type(c),c.head())"
   ]
  },
  {
   "cell_type": "code",
   "execution_count": 87,
   "metadata": {},
   "outputs": [
    {
     "data": {
      "text/html": [
       "<div>\n",
       "<style scoped>\n",
       "    .dataframe tbody tr th:only-of-type {\n",
       "        vertical-align: middle;\n",
       "    }\n",
       "\n",
       "    .dataframe tbody tr th {\n",
       "        vertical-align: top;\n",
       "    }\n",
       "\n",
       "    .dataframe thead th {\n",
       "        text-align: right;\n",
       "    }\n",
       "</style>\n",
       "<table border=\"1\" class=\"dataframe\">\n",
       "  <thead>\n",
       "    <tr style=\"text-align: right;\">\n",
       "      <th></th>\n",
       "      <th>a</th>\n",
       "      <th>b</th>\n",
       "      <th>c</th>\n",
       "      <th>d</th>\n",
       "      <th>message</th>\n",
       "    </tr>\n",
       "  </thead>\n",
       "  <tbody>\n",
       "    <tr>\n",
       "      <th>0</th>\n",
       "      <td>1</td>\n",
       "      <td>2</td>\n",
       "      <td>3</td>\n",
       "      <td>4</td>\n",
       "      <td>hello</td>\n",
       "    </tr>\n",
       "    <tr>\n",
       "      <th>1</th>\n",
       "      <td>5</td>\n",
       "      <td>6</td>\n",
       "      <td>7</td>\n",
       "      <td>8</td>\n",
       "      <td>world</td>\n",
       "    </tr>\n",
       "    <tr>\n",
       "      <th>2</th>\n",
       "      <td>9</td>\n",
       "      <td>10</td>\n",
       "      <td>11</td>\n",
       "      <td>12</td>\n",
       "      <td>foo</td>\n",
       "    </tr>\n",
       "  </tbody>\n",
       "</table>\n",
       "</div>"
      ],
      "text/plain": [
       "   a   b   c   d message\n",
       "0  1   2   3   4   hello\n",
       "1  5   6   7   8   world\n",
       "2  9  10  11  12     foo"
      ]
     },
     "execution_count": 87,
     "metadata": {},
     "output_type": "execute_result"
    }
   ],
   "source": [
    "# Binary Data Formats\n",
    "frame = pd.read_csv('examples/ex1.csv')\n",
    "frame.to_pickle('examples/frame_pickle')\n",
    "pd.read_pickle('examples/frame_pickle')"
   ]
  },
  {
   "cell_type": "code",
   "execution_count": 93,
   "metadata": {},
   "outputs": [
    {
     "name": "stdout",
     "output_type": "stream",
     "text": [
      "<class 'pandas.io.pytables.HDFStore'>\n",
      "File path: mydata.h5\n",
      "\n",
      "<class 'pandas.core.frame.DataFrame'>\n",
      "          a\n",
      "0 -1.035588\n",
      "1 -0.462552\n",
      "2  0.486951\n",
      "3 -0.410923\n",
      "4  1.188160\n",
      "--------------\n"
     ]
    },
    {
     "data": {
      "text/html": [
       "<div>\n",
       "<style scoped>\n",
       "    .dataframe tbody tr th:only-of-type {\n",
       "        vertical-align: middle;\n",
       "    }\n",
       "\n",
       "    .dataframe tbody tr th {\n",
       "        vertical-align: top;\n",
       "    }\n",
       "\n",
       "    .dataframe thead th {\n",
       "        text-align: right;\n",
       "    }\n",
       "</style>\n",
       "<table border=\"1\" class=\"dataframe\">\n",
       "  <thead>\n",
       "    <tr style=\"text-align: right;\">\n",
       "      <th></th>\n",
       "      <th>a</th>\n",
       "    </tr>\n",
       "  </thead>\n",
       "  <tbody>\n",
       "    <tr>\n",
       "      <th>0</th>\n",
       "      <td>-1.035588</td>\n",
       "    </tr>\n",
       "    <tr>\n",
       "      <th>1</th>\n",
       "      <td>-0.462552</td>\n",
       "    </tr>\n",
       "    <tr>\n",
       "      <th>2</th>\n",
       "      <td>0.486951</td>\n",
       "    </tr>\n",
       "    <tr>\n",
       "      <th>3</th>\n",
       "      <td>-0.410923</td>\n",
       "    </tr>\n",
       "    <tr>\n",
       "      <th>4</th>\n",
       "      <td>1.188160</td>\n",
       "    </tr>\n",
       "  </tbody>\n",
       "</table>\n",
       "</div>"
      ],
      "text/plain": [
       "          a\n",
       "0 -1.035588\n",
       "1 -0.462552\n",
       "2  0.486951\n",
       "3 -0.410923\n",
       "4  1.188160"
      ]
     },
     "execution_count": 93,
     "metadata": {},
     "output_type": "execute_result"
    }
   ],
   "source": [
    "# Using HDF5 Format\n",
    "import numpy as np\n",
    "frame = pd.DataFrame({'a': np.random.randn(100)})\n",
    "store = pd.HDFStore('mydata.h5')\n",
    "store['obj1'] = frame\n",
    "store['obj1_col'] = frame['a']\n",
    "print(store)\n",
    "x=store.obj1\n",
    "print(type(x))\n",
    "print(x.head())\n",
    "print('--------------')\n",
    "store.put('obj2', frame, format='table')\n",
    "store.select('obj2', where=['index >= 10 and index <= 15'])\n",
    "store.close()\n",
    "\n",
    "frame.to_hdf('mydata.h5', 'obj3', format='table')\n",
    "frame = pd.read_hdf('mydata.h5', 'obj3', where=['index < 5'])\n",
    "frame"
   ]
  },
  {
   "cell_type": "code",
   "execution_count": 103,
   "metadata": {},
   "outputs": [
    {
     "name": "stdout",
     "output_type": "stream",
     "text": [
      "   Unnamed: 0  a   b   c   d message\n",
      "0           0  1   2   3   4   hello\n",
      "1           1  5   6   7   8   world\n",
      "2           2  9  10  11  12     foo\n"
     ]
    }
   ],
   "source": [
    "#reading\n",
    "xlsx = pd.ExcelFile('examples/ex1.xlsx')\n",
    "frame = pd.read_excel('examples/ex1.xlsx', 'Sheet1')\n",
    "print(frame)\n",
    "# writing\n",
    "writer = pd.ExcelWriter('examples/ex2.xlsx')\n",
    "frame.to_excel(writer, 'Sheet1')\n",
    "writer.save()\n",
    "# alternative option for single sheet\n",
    "x = frame.to_excel('examples/ex2.xlsx')"
   ]
  },
  {
   "cell_type": "code",
   "execution_count": 107,
   "metadata": {},
   "outputs": [
    {
     "name": "stdout",
     "output_type": "stream",
     "text": [
      "<Response [200]>\n",
      "<class 'list'>\n"
     ]
    }
   ],
   "source": [
    "# Interacting with Web APIs\n",
    "import requests\n",
    "import numpy as np\n",
    "url ='https://api.github.com/repos/pandas-dev/pandas/issues'\n",
    "resp = requests.get(url)\n",
    "print(resp)\n",
    "data = resp.json()\n",
    "print(type(data))\n",
    "#print(data)"
   ]
  },
  {
   "cell_type": "code",
   "execution_count": 117,
   "metadata": {},
   "outputs": [
    {
     "name": "stdout",
     "output_type": "stream",
     "text": [
      "TST: Test DataFrame.rolling with window as string\n"
     ]
    },
    {
     "data": {
      "text/html": [
       "<div>\n",
       "<style scoped>\n",
       "    .dataframe tbody tr th:only-of-type {\n",
       "        vertical-align: middle;\n",
       "    }\n",
       "\n",
       "    .dataframe tbody tr th {\n",
       "        vertical-align: top;\n",
       "    }\n",
       "\n",
       "    .dataframe thead th {\n",
       "        text-align: right;\n",
       "    }\n",
       "</style>\n",
       "<table border=\"1\" class=\"dataframe\">\n",
       "  <thead>\n",
       "    <tr style=\"text-align: right;\">\n",
       "      <th></th>\n",
       "      <th>number</th>\n",
       "      <th>title</th>\n",
       "    </tr>\n",
       "  </thead>\n",
       "  <tbody>\n",
       "    <tr>\n",
       "      <th>0</th>\n",
       "      <td>29392</td>\n",
       "      <td>TST: Test DataFrame.rolling with window as string</td>\n",
       "    </tr>\n",
       "    <tr>\n",
       "      <th>1</th>\n",
       "      <td>29390</td>\n",
       "      <td>changing docstring for to_csv compression to 1...</td>\n",
       "    </tr>\n",
       "    <tr>\n",
       "      <th>2</th>\n",
       "      <td>29389</td>\n",
       "      <td>CLN core.groupby</td>\n",
       "    </tr>\n",
       "    <tr>\n",
       "      <th>3</th>\n",
       "      <td>29388</td>\n",
       "      <td>API: drop kwargs from Series.dropna, add expli...</td>\n",
       "    </tr>\n",
       "    <tr>\n",
       "      <th>4</th>\n",
       "      <td>29387</td>\n",
       "      <td>DOC: Added the flag \"--no-use-pep517\" to contr...</td>\n",
       "    </tr>\n",
       "  </tbody>\n",
       "</table>\n",
       "</div>"
      ],
      "text/plain": [
       "   number                                              title\n",
       "0   29392  TST: Test DataFrame.rolling with window as string\n",
       "1   29390  changing docstring for to_csv compression to 1...\n",
       "2   29389                                   CLN core.groupby\n",
       "3   29388  API: drop kwargs from Series.dropna, add expli...\n",
       "4   29387  DOC: Added the flag \"--no-use-pep517\" to contr..."
      ]
     },
     "execution_count": 117,
     "metadata": {},
     "output_type": "execute_result"
    }
   ],
   "source": [
    "d = data[0]\n",
    "print(d[\"title\"])\n",
    "issues = pd.DataFrame(data,\n",
    "                     columns = [\"number\",\"title\",\"labels\",\"state\"])\n",
    "#issues.head()\n",
    "a = issues[['number', 'title']].head()\n",
    "a"
   ]
  },
  {
   "cell_type": "code",
   "execution_count": 119,
   "metadata": {},
   "outputs": [],
   "source": [
    "#Interacting with Databases\n",
    "\n",
    "#conda install -c anaconda sqlite \n",
    "import sqlite3\n",
    "\n",
    "#creating table\n",
    "query = \"\"\" CREATE TABLE test(a VARCHAR(20), \n",
    "        b VARCHAR(20),c REAL,\n",
    "        d INTEGER);  \"\"\"\n",
    "con = sqlite3.connect('mydata.sqlite')\n",
    "con.execute(query)\n",
    "con.commit()"
   ]
  },
  {
   "cell_type": "code",
   "execution_count": 120,
   "metadata": {},
   "outputs": [],
   "source": [
    "# inserting data\n",
    "data = [('Atlanta', 'Georgia', 1.25, 6),\n",
    "        ('Tallahassee', 'Florida', 2.6, 3),\n",
    "        ('Sacramento', 'California', 1.7, 5)\n",
    "       ]\n",
    "stmt = \"INSERT INTO test VALUES(?, ?, ?, ?)\"\n",
    "con.executemany(stmt, data)\n",
    "con.commit()"
   ]
  },
  {
   "cell_type": "code",
   "execution_count": 121,
   "metadata": {},
   "outputs": [
    {
     "name": "stdout",
     "output_type": "stream",
     "text": [
      "<class 'list'> [('Atlanta', 'Georgia', 1.25, 6), ('Tallahassee', 'Florida', 2.6, 3), ('Sacramento', 'California', 1.7, 5)]\n"
     ]
    }
   ],
   "source": [
    "#selecting/extracting data\n",
    "cursor = con.execute('select * from test')\n",
    "rows = cursor.fetchall()\n",
    "print(type(rows), rows)"
   ]
  },
  {
   "cell_type": "code",
   "execution_count": 122,
   "metadata": {},
   "outputs": [
    {
     "name": "stdout",
     "output_type": "stream",
     "text": [
      "(('a', None, None, None, None, None, None), ('b', None, None, None, None, None, None), ('c', None, None, None, None, None, None), ('d', None, None, None, None, None, None))\n"
     ]
    },
    {
     "data": {
      "text/html": [
       "<div>\n",
       "<style scoped>\n",
       "    .dataframe tbody tr th:only-of-type {\n",
       "        vertical-align: middle;\n",
       "    }\n",
       "\n",
       "    .dataframe tbody tr th {\n",
       "        vertical-align: top;\n",
       "    }\n",
       "\n",
       "    .dataframe thead th {\n",
       "        text-align: right;\n",
       "    }\n",
       "</style>\n",
       "<table border=\"1\" class=\"dataframe\">\n",
       "  <thead>\n",
       "    <tr style=\"text-align: right;\">\n",
       "      <th></th>\n",
       "      <th>a</th>\n",
       "      <th>b</th>\n",
       "      <th>c</th>\n",
       "      <th>d</th>\n",
       "    </tr>\n",
       "  </thead>\n",
       "  <tbody>\n",
       "    <tr>\n",
       "      <th>0</th>\n",
       "      <td>Atlanta</td>\n",
       "      <td>Georgia</td>\n",
       "      <td>1.25</td>\n",
       "      <td>6</td>\n",
       "    </tr>\n",
       "    <tr>\n",
       "      <th>1</th>\n",
       "      <td>Tallahassee</td>\n",
       "      <td>Florida</td>\n",
       "      <td>2.60</td>\n",
       "      <td>3</td>\n",
       "    </tr>\n",
       "    <tr>\n",
       "      <th>2</th>\n",
       "      <td>Sacramento</td>\n",
       "      <td>California</td>\n",
       "      <td>1.70</td>\n",
       "      <td>5</td>\n",
       "    </tr>\n",
       "  </tbody>\n",
       "</table>\n",
       "</div>"
      ],
      "text/plain": [
       "             a           b     c  d\n",
       "0      Atlanta     Georgia  1.25  6\n",
       "1  Tallahassee     Florida  2.60  3\n",
       "2   Sacramento  California  1.70  5"
      ]
     },
     "execution_count": 122,
     "metadata": {},
     "output_type": "execute_result"
    }
   ],
   "source": [
    "print(cursor.description)\n",
    "data_df = pd.DataFrame(rows, columns=[x[0] for x in cursor.description])\n",
    "data_df"
   ]
  },
  {
   "cell_type": "code",
   "execution_count": 123,
   "metadata": {},
   "outputs": [
    {
     "data": {
      "text/html": [
       "<div>\n",
       "<style scoped>\n",
       "    .dataframe tbody tr th:only-of-type {\n",
       "        vertical-align: middle;\n",
       "    }\n",
       "\n",
       "    .dataframe tbody tr th {\n",
       "        vertical-align: top;\n",
       "    }\n",
       "\n",
       "    .dataframe thead th {\n",
       "        text-align: right;\n",
       "    }\n",
       "</style>\n",
       "<table border=\"1\" class=\"dataframe\">\n",
       "  <thead>\n",
       "    <tr style=\"text-align: right;\">\n",
       "      <th></th>\n",
       "      <th>a</th>\n",
       "      <th>b</th>\n",
       "      <th>c</th>\n",
       "      <th>d</th>\n",
       "    </tr>\n",
       "  </thead>\n",
       "  <tbody>\n",
       "    <tr>\n",
       "      <th>0</th>\n",
       "      <td>Atlanta</td>\n",
       "      <td>Georgia</td>\n",
       "      <td>1.25</td>\n",
       "      <td>6</td>\n",
       "    </tr>\n",
       "    <tr>\n",
       "      <th>1</th>\n",
       "      <td>Tallahassee</td>\n",
       "      <td>Florida</td>\n",
       "      <td>2.60</td>\n",
       "      <td>3</td>\n",
       "    </tr>\n",
       "    <tr>\n",
       "      <th>2</th>\n",
       "      <td>Sacramento</td>\n",
       "      <td>California</td>\n",
       "      <td>1.70</td>\n",
       "      <td>5</td>\n",
       "    </tr>\n",
       "  </tbody>\n",
       "</table>\n",
       "</div>"
      ],
      "text/plain": [
       "             a           b     c  d\n",
       "0      Atlanta     Georgia  1.25  6\n",
       "1  Tallahassee     Florida  2.60  3\n",
       "2   Sacramento  California  1.70  5"
      ]
     },
     "execution_count": 123,
     "metadata": {},
     "output_type": "execute_result"
    }
   ],
   "source": [
    "#conda install -c anaconda sqlalchemy \n",
    "# using sqlalchemy \n",
    "import sqlalchemy as sqla\n",
    "db = sqla.create_engine('sqlite:///mydata.sqlite')\n",
    "pd.read_sql('select * from test', db)"
   ]
  },
  {
   "cell_type": "markdown",
   "metadata": {},
   "source": [
    "# *Class: 7*"
   ]
  },
  {
   "cell_type": "markdown",
   "metadata": {},
   "source": [
    "### Handling Missing Data:"
   ]
  },
  {
   "cell_type": "code",
   "execution_count": 2,
   "metadata": {},
   "outputs": [],
   "source": [
    "import pandas as pd\n",
    "from numpy import nan as NA "
   ]
  },
  {
   "cell_type": "code",
   "execution_count": 11,
   "metadata": {},
   "outputs": [
    {
     "data": {
      "text/html": [
       "<div>\n",
       "<style scoped>\n",
       "    .dataframe tbody tr th:only-of-type {\n",
       "        vertical-align: middle;\n",
       "    }\n",
       "\n",
       "    .dataframe tbody tr th {\n",
       "        vertical-align: top;\n",
       "    }\n",
       "\n",
       "    .dataframe thead th {\n",
       "        text-align: right;\n",
       "    }\n",
       "</style>\n",
       "<table border=\"1\" class=\"dataframe\">\n",
       "  <thead>\n",
       "    <tr style=\"text-align: right;\">\n",
       "      <th></th>\n",
       "      <th>A</th>\n",
       "      <th>B</th>\n",
       "      <th>C</th>\n",
       "    </tr>\n",
       "  </thead>\n",
       "  <tbody>\n",
       "    <tr>\n",
       "      <th>0</th>\n",
       "      <td>1.0</td>\n",
       "      <td>6.5</td>\n",
       "      <td>NaN</td>\n",
       "    </tr>\n",
       "    <tr>\n",
       "      <th>1</th>\n",
       "      <td>1.0</td>\n",
       "      <td>NaN</td>\n",
       "      <td>NaN</td>\n",
       "    </tr>\n",
       "    <tr>\n",
       "      <th>2</th>\n",
       "      <td>NaN</td>\n",
       "      <td>NaN</td>\n",
       "      <td>NaN</td>\n",
       "    </tr>\n",
       "    <tr>\n",
       "      <th>3</th>\n",
       "      <td>NaN</td>\n",
       "      <td>6.5</td>\n",
       "      <td>NaN</td>\n",
       "    </tr>\n",
       "  </tbody>\n",
       "</table>\n",
       "</div>"
      ],
      "text/plain": [
       "     A    B   C\n",
       "0  1.0  6.5 NaN\n",
       "1  1.0  NaN NaN\n",
       "2  NaN  NaN NaN\n",
       "3  NaN  6.5 NaN"
      ]
     },
     "metadata": {},
     "output_type": "display_data"
    }
   ],
   "source": [
    "data = pd.DataFrame([[1.,6.5,NA],[1.,NA,NA],[NA,NA,NA],[NA,6.5,NA]],\n",
    "                   columns=list(\"ABC\"))\n",
    "display(data)\n",
    "c = data.dropna()\n",
    "#display(c)\n",
    "\n",
    "d = data.dropna(how=\"all\")\n",
    "#display(d)\n",
    "\n",
    "x = data.dropna(axis=1)\n",
    "#display(x)\n",
    "\n",
    "y = data.dropna(axis=1, how=\"all\")\n",
    "#display(y)"
   ]
  },
  {
   "cell_type": "markdown",
   "metadata": {},
   "source": [
    "### Filling Data"
   ]
  },
  {
   "cell_type": "code",
   "execution_count": 60,
   "metadata": {},
   "outputs": [
    {
     "name": "stdout",
     "output_type": "stream",
     "text": [
      "          0         1         2\n",
      "0 -0.200587  0.560854 -0.830598\n",
      "1 -0.235903  0.172783 -0.859844\n",
      "2 -0.875109  0.112758  0.980389\n",
      "3  0.741246  0.928144 -0.543643\n",
      "4  0.728894 -2.545693  0.598228\n",
      "5  0.499920  1.064210 -0.253259\n",
      "6  0.117020 -1.127897 -1.086748\n"
     ]
    },
    {
     "data": {
      "text/html": [
       "<div>\n",
       "<style scoped>\n",
       "    .dataframe tbody tr th:only-of-type {\n",
       "        vertical-align: middle;\n",
       "    }\n",
       "\n",
       "    .dataframe tbody tr th {\n",
       "        vertical-align: top;\n",
       "    }\n",
       "\n",
       "    .dataframe thead th {\n",
       "        text-align: right;\n",
       "    }\n",
       "</style>\n",
       "<table border=\"1\" class=\"dataframe\">\n",
       "  <thead>\n",
       "    <tr style=\"text-align: right;\">\n",
       "      <th></th>\n",
       "      <th>0</th>\n",
       "      <th>1</th>\n",
       "      <th>2</th>\n",
       "    </tr>\n",
       "  </thead>\n",
       "  <tbody>\n",
       "    <tr>\n",
       "      <th>0</th>\n",
       "      <td>-0.200587</td>\n",
       "      <td>-0.200587</td>\n",
       "      <td>-0.200587</td>\n",
       "    </tr>\n",
       "    <tr>\n",
       "      <th>1</th>\n",
       "      <td>-0.235903</td>\n",
       "      <td>-0.235903</td>\n",
       "      <td>-0.235903</td>\n",
       "    </tr>\n",
       "    <tr>\n",
       "      <th>2</th>\n",
       "      <td>-0.875109</td>\n",
       "      <td>-0.875109</td>\n",
       "      <td>0.980389</td>\n",
       "    </tr>\n",
       "    <tr>\n",
       "      <th>3</th>\n",
       "      <td>0.741246</td>\n",
       "      <td>0.741246</td>\n",
       "      <td>-0.543643</td>\n",
       "    </tr>\n",
       "    <tr>\n",
       "      <th>4</th>\n",
       "      <td>0.728894</td>\n",
       "      <td>-2.545693</td>\n",
       "      <td>0.598228</td>\n",
       "    </tr>\n",
       "    <tr>\n",
       "      <th>5</th>\n",
       "      <td>0.499920</td>\n",
       "      <td>1.064210</td>\n",
       "      <td>-0.253259</td>\n",
       "    </tr>\n",
       "    <tr>\n",
       "      <th>6</th>\n",
       "      <td>0.117020</td>\n",
       "      <td>-1.127897</td>\n",
       "      <td>-1.086748</td>\n",
       "    </tr>\n",
       "  </tbody>\n",
       "</table>\n",
       "</div>"
      ],
      "text/plain": [
       "          0         1         2\n",
       "0 -0.200587 -0.200587 -0.200587\n",
       "1 -0.235903 -0.235903 -0.235903\n",
       "2 -0.875109 -0.875109  0.980389\n",
       "3  0.741246  0.741246 -0.543643\n",
       "4  0.728894 -2.545693  0.598228\n",
       "5  0.499920  1.064210 -0.253259\n",
       "6  0.117020 -1.127897 -1.086748"
      ]
     },
     "metadata": {},
     "output_type": "display_data"
    }
   ],
   "source": [
    "import numpy as np\n",
    "df = pd.DataFrame(np.random.randn(7, 3))\n",
    "print(df)\n",
    "#df.iloc[:6, 0] = NA\n",
    "df.iloc[:4, 1] = NA\n",
    "df.iloc[:2, 2] = NA\n",
    "#display(df)\n",
    "\n",
    "#df = df.fillna(2.0)\n",
    "#display(df)\n",
    "\n",
    "#df = df.fillna({0:1.5,1:2.5,2:3.5})\n",
    "#display(df)\n",
    "\n",
    "#df = df.fillna(method=\"ffill\",axis=1,limit=1)\n",
    "#display(df)\n",
    "\n",
    "#df = df.fillna(method=\"bfill\")\n",
    "#display(df)\n",
    "\n",
    "df = df.fillna(method=\"ffill\",axis=1)\n",
    "display(df)"
   ]
  },
  {
   "cell_type": "markdown",
   "metadata": {},
   "source": [
    "### Removing Duplicates"
   ]
  },
  {
   "cell_type": "code",
   "execution_count": 88,
   "metadata": {},
   "outputs": [
    {
     "data": {
      "text/html": [
       "<div>\n",
       "<style scoped>\n",
       "    .dataframe tbody tr th:only-of-type {\n",
       "        vertical-align: middle;\n",
       "    }\n",
       "\n",
       "    .dataframe tbody tr th {\n",
       "        vertical-align: top;\n",
       "    }\n",
       "\n",
       "    .dataframe thead th {\n",
       "        text-align: right;\n",
       "    }\n",
       "</style>\n",
       "<table border=\"1\" class=\"dataframe\">\n",
       "  <thead>\n",
       "    <tr style=\"text-align: right;\">\n",
       "      <th></th>\n",
       "      <th>K1</th>\n",
       "      <th>V1</th>\n",
       "    </tr>\n",
       "  </thead>\n",
       "  <tbody>\n",
       "    <tr>\n",
       "      <th>0</th>\n",
       "      <td>One</td>\n",
       "      <td>One</td>\n",
       "    </tr>\n",
       "    <tr>\n",
       "      <th>1</th>\n",
       "      <td>Two</td>\n",
       "      <td>Two</td>\n",
       "    </tr>\n",
       "    <tr>\n",
       "      <th>2</th>\n",
       "      <td>One</td>\n",
       "      <td>One</td>\n",
       "    </tr>\n",
       "    <tr>\n",
       "      <th>3</th>\n",
       "      <td>Two</td>\n",
       "      <td>Four</td>\n",
       "    </tr>\n",
       "    <tr>\n",
       "      <th>4</th>\n",
       "      <td>One</td>\n",
       "      <td>One</td>\n",
       "    </tr>\n",
       "    <tr>\n",
       "      <th>5</th>\n",
       "      <td>Two</td>\n",
       "      <td>Three</td>\n",
       "    </tr>\n",
       "    <tr>\n",
       "      <th>6</th>\n",
       "      <td>Four</td>\n",
       "      <td>Four</td>\n",
       "    </tr>\n",
       "  </tbody>\n",
       "</table>\n",
       "</div>"
      ],
      "text/plain": [
       "     K1     V1\n",
       "0   One    One\n",
       "1   Two    Two\n",
       "2   One    One\n",
       "3   Two   Four\n",
       "4   One    One\n",
       "5   Two  Three\n",
       "6  Four   Four"
      ]
     },
     "metadata": {},
     "output_type": "display_data"
    },
    {
     "data": {
      "text/html": [
       "<div>\n",
       "<style scoped>\n",
       "    .dataframe tbody tr th:only-of-type {\n",
       "        vertical-align: middle;\n",
       "    }\n",
       "\n",
       "    .dataframe tbody tr th {\n",
       "        vertical-align: top;\n",
       "    }\n",
       "\n",
       "    .dataframe thead th {\n",
       "        text-align: right;\n",
       "    }\n",
       "</style>\n",
       "<table border=\"1\" class=\"dataframe\">\n",
       "  <thead>\n",
       "    <tr style=\"text-align: right;\">\n",
       "      <th></th>\n",
       "      <th>K1</th>\n",
       "      <th>K2</th>\n",
       "      <th>V1</th>\n",
       "    </tr>\n",
       "  </thead>\n",
       "  <tbody>\n",
       "    <tr>\n",
       "      <th>0</th>\n",
       "      <td>One</td>\n",
       "      <td>1</td>\n",
       "      <td>One</td>\n",
       "    </tr>\n",
       "    <tr>\n",
       "      <th>1</th>\n",
       "      <td>Two</td>\n",
       "      <td>2</td>\n",
       "      <td>Two</td>\n",
       "    </tr>\n",
       "    <tr>\n",
       "      <th>3</th>\n",
       "      <td>Two</td>\n",
       "      <td>4</td>\n",
       "      <td>Four</td>\n",
       "    </tr>\n",
       "    <tr>\n",
       "      <th>5</th>\n",
       "      <td>Two</td>\n",
       "      <td>6</td>\n",
       "      <td>Three</td>\n",
       "    </tr>\n",
       "    <tr>\n",
       "      <th>6</th>\n",
       "      <td>Four</td>\n",
       "      <td>7</td>\n",
       "      <td>Four</td>\n",
       "    </tr>\n",
       "  </tbody>\n",
       "</table>\n",
       "</div>"
      ],
      "text/plain": [
       "     K1  K2     V1\n",
       "0   One   1    One\n",
       "1   Two   2    Two\n",
       "3   Two   4   Four\n",
       "5   Two   6  Three\n",
       "6  Four   7   Four"
      ]
     },
     "metadata": {},
     "output_type": "display_data"
    }
   ],
   "source": [
    "data = pd.DataFrame({\"K1\":[\"One\",\"Two\"] * 3 + [\"Four\"],\n",
    "                    \"K2\":[1,2,3,4,5,6,7]})\n",
    "#display(data)\n",
    "#print(data.duplicated())\n",
    "#display(data.drop_duplicates())\n",
    "\n",
    "data[\"V1\"] = [\"One\",\"Two\",\"One\",\"Four\",\"One\",\"Three\",\"Four\"]\n",
    "#display(data)\n",
    "display(data[[\"K1\",\"V1\"]])\n",
    "w = data.drop_duplicates([\"K1\",\"V1\"])\n",
    "display(w)"
   ]
  },
  {
   "cell_type": "markdown",
   "metadata": {},
   "source": [
    "### Replacing Values"
   ]
  },
  {
   "cell_type": "code",
   "execution_count": 100,
   "metadata": {},
   "outputs": [
    {
     "data": {
      "text/html": [
       "<div>\n",
       "<style scoped>\n",
       "    .dataframe tbody tr th:only-of-type {\n",
       "        vertical-align: middle;\n",
       "    }\n",
       "\n",
       "    .dataframe tbody tr th {\n",
       "        vertical-align: top;\n",
       "    }\n",
       "\n",
       "    .dataframe thead th {\n",
       "        text-align: right;\n",
       "    }\n",
       "</style>\n",
       "<table border=\"1\" class=\"dataframe\">\n",
       "  <thead>\n",
       "    <tr style=\"text-align: right;\">\n",
       "      <th></th>\n",
       "      <th>0</th>\n",
       "      <th>1</th>\n",
       "      <th>2</th>\n",
       "    </tr>\n",
       "  </thead>\n",
       "  <tbody>\n",
       "    <tr>\n",
       "      <th>0</th>\n",
       "      <td>0.897545</td>\n",
       "      <td>NaN</td>\n",
       "      <td>NaN</td>\n",
       "    </tr>\n",
       "    <tr>\n",
       "      <th>1</th>\n",
       "      <td>-0.722687</td>\n",
       "      <td>NaN</td>\n",
       "      <td>NaN</td>\n",
       "    </tr>\n",
       "    <tr>\n",
       "      <th>2</th>\n",
       "      <td>-0.113591</td>\n",
       "      <td>NaN</td>\n",
       "      <td>-1.345668</td>\n",
       "    </tr>\n",
       "    <tr>\n",
       "      <th>3</th>\n",
       "      <td>2.969407</td>\n",
       "      <td>NaN</td>\n",
       "      <td>1.209345</td>\n",
       "    </tr>\n",
       "    <tr>\n",
       "      <th>4</th>\n",
       "      <td>0.397742</td>\n",
       "      <td>-0.097828</td>\n",
       "      <td>2.426450</td>\n",
       "    </tr>\n",
       "    <tr>\n",
       "      <th>5</th>\n",
       "      <td>-0.656239</td>\n",
       "      <td>0.361157</td>\n",
       "      <td>-0.549710</td>\n",
       "    </tr>\n",
       "    <tr>\n",
       "      <th>6</th>\n",
       "      <td>0.170080</td>\n",
       "      <td>-0.163506</td>\n",
       "      <td>-0.981434</td>\n",
       "    </tr>\n",
       "  </tbody>\n",
       "</table>\n",
       "</div>"
      ],
      "text/plain": [
       "          0         1         2\n",
       "0  0.897545       NaN       NaN\n",
       "1 -0.722687       NaN       NaN\n",
       "2 -0.113591       NaN -1.345668\n",
       "3  2.969407       NaN  1.209345\n",
       "4  0.397742 -0.097828  2.426450\n",
       "5 -0.656239  0.361157 -0.549710\n",
       "6  0.170080 -0.163506 -0.981434"
      ]
     },
     "metadata": {},
     "output_type": "display_data"
    },
    {
     "data": {
      "text/html": [
       "<div>\n",
       "<style scoped>\n",
       "    .dataframe tbody tr th:only-of-type {\n",
       "        vertical-align: middle;\n",
       "    }\n",
       "\n",
       "    .dataframe tbody tr th {\n",
       "        vertical-align: top;\n",
       "    }\n",
       "\n",
       "    .dataframe thead th {\n",
       "        text-align: right;\n",
       "    }\n",
       "</style>\n",
       "<table border=\"1\" class=\"dataframe\">\n",
       "  <thead>\n",
       "    <tr style=\"text-align: right;\">\n",
       "      <th></th>\n",
       "      <th>0</th>\n",
       "      <th>1</th>\n",
       "      <th>2</th>\n",
       "    </tr>\n",
       "  </thead>\n",
       "  <tbody>\n",
       "    <tr>\n",
       "      <th>0</th>\n",
       "      <td>0.897545</td>\n",
       "      <td>-9.000000</td>\n",
       "      <td>-9.000000</td>\n",
       "    </tr>\n",
       "    <tr>\n",
       "      <th>1</th>\n",
       "      <td>-0.722687</td>\n",
       "      <td>-9.000000</td>\n",
       "      <td>-9.000000</td>\n",
       "    </tr>\n",
       "    <tr>\n",
       "      <th>2</th>\n",
       "      <td>-0.113591</td>\n",
       "      <td>-9.000000</td>\n",
       "      <td>-1.345668</td>\n",
       "    </tr>\n",
       "    <tr>\n",
       "      <th>3</th>\n",
       "      <td>2.969407</td>\n",
       "      <td>-9.000000</td>\n",
       "      <td>1.209345</td>\n",
       "    </tr>\n",
       "    <tr>\n",
       "      <th>4</th>\n",
       "      <td>0.397742</td>\n",
       "      <td>-0.097828</td>\n",
       "      <td>2.426450</td>\n",
       "    </tr>\n",
       "    <tr>\n",
       "      <th>5</th>\n",
       "      <td>-0.656239</td>\n",
       "      <td>0.361157</td>\n",
       "      <td>-0.549710</td>\n",
       "    </tr>\n",
       "    <tr>\n",
       "      <th>6</th>\n",
       "      <td>0.170080</td>\n",
       "      <td>-0.163506</td>\n",
       "      <td>-0.981434</td>\n",
       "    </tr>\n",
       "  </tbody>\n",
       "</table>\n",
       "</div>"
      ],
      "text/plain": [
       "          0         1         2\n",
       "0  0.897545 -9.000000 -9.000000\n",
       "1 -0.722687 -9.000000 -9.000000\n",
       "2 -0.113591 -9.000000 -1.345668\n",
       "3  2.969407 -9.000000  1.209345\n",
       "4  0.397742 -0.097828  2.426450\n",
       "5 -0.656239  0.361157 -0.549710\n",
       "6  0.170080 -0.163506 -0.981434"
      ]
     },
     "metadata": {},
     "output_type": "display_data"
    },
    {
     "data": {
      "text/html": [
       "<div>\n",
       "<style scoped>\n",
       "    .dataframe tbody tr th:only-of-type {\n",
       "        vertical-align: middle;\n",
       "    }\n",
       "\n",
       "    .dataframe tbody tr th {\n",
       "        vertical-align: top;\n",
       "    }\n",
       "\n",
       "    .dataframe thead th {\n",
       "        text-align: right;\n",
       "    }\n",
       "</style>\n",
       "<table border=\"1\" class=\"dataframe\">\n",
       "  <thead>\n",
       "    <tr style=\"text-align: right;\">\n",
       "      <th></th>\n",
       "      <th>0</th>\n",
       "      <th>1</th>\n",
       "      <th>2</th>\n",
       "    </tr>\n",
       "  </thead>\n",
       "  <tbody>\n",
       "    <tr>\n",
       "      <th>0</th>\n",
       "      <td>0.897545</td>\n",
       "      <td>0.000000</td>\n",
       "      <td>0.000000</td>\n",
       "    </tr>\n",
       "    <tr>\n",
       "      <th>1</th>\n",
       "      <td>-0.722687</td>\n",
       "      <td>0.000000</td>\n",
       "      <td>0.000000</td>\n",
       "    </tr>\n",
       "    <tr>\n",
       "      <th>2</th>\n",
       "      <td>-0.113591</td>\n",
       "      <td>0.000000</td>\n",
       "      <td>-1.345668</td>\n",
       "    </tr>\n",
       "    <tr>\n",
       "      <th>3</th>\n",
       "      <td>2.969407</td>\n",
       "      <td>0.000000</td>\n",
       "      <td>1.209345</td>\n",
       "    </tr>\n",
       "    <tr>\n",
       "      <th>4</th>\n",
       "      <td>0.397742</td>\n",
       "      <td>-0.097828</td>\n",
       "      <td>2.426450</td>\n",
       "    </tr>\n",
       "    <tr>\n",
       "      <th>5</th>\n",
       "      <td>-0.656239</td>\n",
       "      <td>0.361157</td>\n",
       "      <td>-0.549710</td>\n",
       "    </tr>\n",
       "    <tr>\n",
       "      <th>6</th>\n",
       "      <td>0.170080</td>\n",
       "      <td>-0.163506</td>\n",
       "      <td>-0.981434</td>\n",
       "    </tr>\n",
       "  </tbody>\n",
       "</table>\n",
       "</div>"
      ],
      "text/plain": [
       "          0         1         2\n",
       "0  0.897545  0.000000  0.000000\n",
       "1 -0.722687  0.000000  0.000000\n",
       "2 -0.113591  0.000000 -1.345668\n",
       "3  2.969407  0.000000  1.209345\n",
       "4  0.397742 -0.097828  2.426450\n",
       "5 -0.656239  0.361157 -0.549710\n",
       "6  0.170080 -0.163506 -0.981434"
      ]
     },
     "metadata": {},
     "output_type": "display_data"
    }
   ],
   "source": [
    "df = pd.DataFrame(np.random.randn(7,3))\n",
    "#display(df)\n",
    "df.iloc[:4,1] = NA\n",
    "df.iloc[:2,2] = NA\n",
    "display(df)\n",
    "\n",
    "#df = df.replace(NA,-999)\n",
    "#display(df)\n",
    "\n",
    "df = df.replace(NA, -9)\n",
    "display(df)\n",
    "\n",
    "df = df.replace([-999,-9],[101,0])\n",
    "display(df)"
   ]
  },
  {
   "cell_type": "markdown",
   "metadata": {},
   "source": [
    "### Renaming Axis Indexes using function mapping"
   ]
  },
  {
   "cell_type": "code",
   "execution_count": 122,
   "metadata": {},
   "outputs": [
    {
     "name": "stdout",
     "output_type": "stream",
     "text": [
      "          One  Two  Three  Four\n",
      "Ohio        0    1      2     3\n",
      "Texas       4    5      6     7\n",
      "Colorado    8    9     10    11\n"
     ]
    },
    {
     "data": {
      "text/html": [
       "<div>\n",
       "<style scoped>\n",
       "    .dataframe tbody tr th:only-of-type {\n",
       "        vertical-align: middle;\n",
       "    }\n",
       "\n",
       "    .dataframe tbody tr th {\n",
       "        vertical-align: top;\n",
       "    }\n",
       "\n",
       "    .dataframe thead th {\n",
       "        text-align: right;\n",
       "    }\n",
       "</style>\n",
       "<table border=\"1\" class=\"dataframe\">\n",
       "  <thead>\n",
       "    <tr style=\"text-align: right;\">\n",
       "      <th></th>\n",
       "      <th>One</th>\n",
       "      <th>Two</th>\n",
       "      <th>Three</th>\n",
       "      <th>Four</th>\n",
       "    </tr>\n",
       "  </thead>\n",
       "  <tbody>\n",
       "    <tr>\n",
       "      <th>OHI</th>\n",
       "      <td>0</td>\n",
       "      <td>1</td>\n",
       "      <td>2</td>\n",
       "      <td>3</td>\n",
       "    </tr>\n",
       "    <tr>\n",
       "      <th>TEX</th>\n",
       "      <td>4</td>\n",
       "      <td>5</td>\n",
       "      <td>6</td>\n",
       "      <td>7</td>\n",
       "    </tr>\n",
       "    <tr>\n",
       "      <th>COL</th>\n",
       "      <td>8</td>\n",
       "      <td>9</td>\n",
       "      <td>10</td>\n",
       "      <td>11</td>\n",
       "    </tr>\n",
       "  </tbody>\n",
       "</table>\n",
       "</div>"
      ],
      "text/plain": [
       "     One  Two  Three  Four\n",
       "OHI    0    1      2     3\n",
       "TEX    4    5      6     7\n",
       "COL    8    9     10    11"
      ]
     },
     "metadata": {},
     "output_type": "display_data"
    }
   ],
   "source": [
    "data = pd.DataFrame(np.arange(12).reshape(3,4),\n",
    "                   index = [\"Ohio\",\"Texas\",\"Colorado\"],\n",
    "                   columns = [\"One\",\"Two\",\"Three\",\"Four\"])\n",
    "print(data)\n",
    "transform = lambda x: x[:3].upper()\n",
    "data.index = data.index.map(transform)\n",
    "display(data)"
   ]
  },
  {
   "cell_type": "markdown",
   "metadata": {},
   "source": [
    "### Detecting and Filtering Outliers"
   ]
  },
  {
   "cell_type": "code",
   "execution_count": 114,
   "metadata": {},
   "outputs": [
    {
     "name": "stdout",
     "output_type": "stream",
     "text": [
      "10 1000\n"
     ]
    },
    {
     "data": {
      "text/html": [
       "<div>\n",
       "<style scoped>\n",
       "    .dataframe tbody tr th:only-of-type {\n",
       "        vertical-align: middle;\n",
       "    }\n",
       "\n",
       "    .dataframe tbody tr th {\n",
       "        vertical-align: top;\n",
       "    }\n",
       "\n",
       "    .dataframe thead th {\n",
       "        text-align: right;\n",
       "    }\n",
       "</style>\n",
       "<table border=\"1\" class=\"dataframe\">\n",
       "  <thead>\n",
       "    <tr style=\"text-align: right;\">\n",
       "      <th></th>\n",
       "      <th>0</th>\n",
       "      <th>1</th>\n",
       "      <th>2</th>\n",
       "      <th>3</th>\n",
       "    </tr>\n",
       "  </thead>\n",
       "  <tbody>\n",
       "    <tr>\n",
       "      <th>68</th>\n",
       "      <td>-0.538785</td>\n",
       "      <td>3.214897</td>\n",
       "      <td>-0.319399</td>\n",
       "      <td>-0.876196</td>\n",
       "    </tr>\n",
       "    <tr>\n",
       "      <th>256</th>\n",
       "      <td>1.556118</td>\n",
       "      <td>-0.983432</td>\n",
       "      <td>-0.585210</td>\n",
       "      <td>-3.115443</td>\n",
       "    </tr>\n",
       "    <tr>\n",
       "      <th>398</th>\n",
       "      <td>3.704492</td>\n",
       "      <td>0.231075</td>\n",
       "      <td>0.681932</td>\n",
       "      <td>-0.021869</td>\n",
       "    </tr>\n",
       "    <tr>\n",
       "      <th>483</th>\n",
       "      <td>-0.913562</td>\n",
       "      <td>3.075972</td>\n",
       "      <td>-0.317979</td>\n",
       "      <td>-1.002890</td>\n",
       "    </tr>\n",
       "    <tr>\n",
       "      <th>649</th>\n",
       "      <td>0.802792</td>\n",
       "      <td>3.603182</td>\n",
       "      <td>-0.217626</td>\n",
       "      <td>-0.190422</td>\n",
       "    </tr>\n",
       "    <tr>\n",
       "      <th>673</th>\n",
       "      <td>0.658099</td>\n",
       "      <td>3.193668</td>\n",
       "      <td>-0.508043</td>\n",
       "      <td>0.128239</td>\n",
       "    </tr>\n",
       "    <tr>\n",
       "      <th>693</th>\n",
       "      <td>0.537343</td>\n",
       "      <td>3.282562</td>\n",
       "      <td>0.365117</td>\n",
       "      <td>-1.896187</td>\n",
       "    </tr>\n",
       "    <tr>\n",
       "      <th>730</th>\n",
       "      <td>-1.066573</td>\n",
       "      <td>1.513581</td>\n",
       "      <td>3.103015</td>\n",
       "      <td>-1.980556</td>\n",
       "    </tr>\n",
       "    <tr>\n",
       "      <th>790</th>\n",
       "      <td>-0.398814</td>\n",
       "      <td>-0.037280</td>\n",
       "      <td>-1.538071</td>\n",
       "      <td>3.313857</td>\n",
       "    </tr>\n",
       "    <tr>\n",
       "      <th>866</th>\n",
       "      <td>-1.001926</td>\n",
       "      <td>1.905834</td>\n",
       "      <td>-1.771551</td>\n",
       "      <td>-3.602620</td>\n",
       "    </tr>\n",
       "  </tbody>\n",
       "</table>\n",
       "</div>"
      ],
      "text/plain": [
       "            0         1         2         3\n",
       "68  -0.538785  3.214897 -0.319399 -0.876196\n",
       "256  1.556118 -0.983432 -0.585210 -3.115443\n",
       "398  3.704492  0.231075  0.681932 -0.021869\n",
       "483 -0.913562  3.075972 -0.317979 -1.002890\n",
       "649  0.802792  3.603182 -0.217626 -0.190422\n",
       "673  0.658099  3.193668 -0.508043  0.128239\n",
       "693  0.537343  3.282562  0.365117 -1.896187\n",
       "730 -1.066573  1.513581  3.103015 -1.980556\n",
       "790 -0.398814 -0.037280 -1.538071  3.313857\n",
       "866 -1.001926  1.905834 -1.771551 -3.602620"
      ]
     },
     "execution_count": 114,
     "metadata": {},
     "output_type": "execute_result"
    }
   ],
   "source": [
    "data = pd.DataFrame(np.random.randn(1000,4))\n",
    "#display(data.describe())\n",
    "col = data[2]\n",
    "#print(col)\n",
    "\n",
    "outliers = data[(np.abs(data) > 3).any(1)]\n",
    "print(len(outliers), len(data))\n",
    "outliers"
   ]
  },
  {
   "cell_type": "markdown",
   "metadata": {},
   "source": [
    "### Permutation and Random Sampling"
   ]
  },
  {
   "cell_type": "code",
   "execution_count": 154,
   "metadata": {},
   "outputs": [
    {
     "data": {
      "text/html": [
       "<div>\n",
       "<style scoped>\n",
       "    .dataframe tbody tr th:only-of-type {\n",
       "        vertical-align: middle;\n",
       "    }\n",
       "\n",
       "    .dataframe tbody tr th {\n",
       "        vertical-align: top;\n",
       "    }\n",
       "\n",
       "    .dataframe thead th {\n",
       "        text-align: right;\n",
       "    }\n",
       "</style>\n",
       "<table border=\"1\" class=\"dataframe\">\n",
       "  <thead>\n",
       "    <tr style=\"text-align: right;\">\n",
       "      <th></th>\n",
       "      <th>0</th>\n",
       "      <th>1</th>\n",
       "      <th>2</th>\n",
       "      <th>3</th>\n",
       "    </tr>\n",
       "  </thead>\n",
       "  <tbody>\n",
       "    <tr>\n",
       "      <th>0</th>\n",
       "      <td>0</td>\n",
       "      <td>1</td>\n",
       "      <td>2</td>\n",
       "      <td>3</td>\n",
       "    </tr>\n",
       "    <tr>\n",
       "      <th>1</th>\n",
       "      <td>4</td>\n",
       "      <td>5</td>\n",
       "      <td>6</td>\n",
       "      <td>7</td>\n",
       "    </tr>\n",
       "    <tr>\n",
       "      <th>2</th>\n",
       "      <td>8</td>\n",
       "      <td>9</td>\n",
       "      <td>10</td>\n",
       "      <td>11</td>\n",
       "    </tr>\n",
       "    <tr>\n",
       "      <th>3</th>\n",
       "      <td>12</td>\n",
       "      <td>13</td>\n",
       "      <td>14</td>\n",
       "      <td>15</td>\n",
       "    </tr>\n",
       "    <tr>\n",
       "      <th>4</th>\n",
       "      <td>16</td>\n",
       "      <td>17</td>\n",
       "      <td>18</td>\n",
       "      <td>19</td>\n",
       "    </tr>\n",
       "  </tbody>\n",
       "</table>\n",
       "</div>"
      ],
      "text/plain": [
       "    0   1   2   3\n",
       "0   0   1   2   3\n",
       "1   4   5   6   7\n",
       "2   8   9  10  11\n",
       "3  12  13  14  15\n",
       "4  16  17  18  19"
      ]
     },
     "metadata": {},
     "output_type": "display_data"
    },
    {
     "name": "stdout",
     "output_type": "stream",
     "text": [
      "\n",
      "[3 1 2 0]\n",
      "\n",
      "===============\n"
     ]
    },
    {
     "data": {
      "text/html": [
       "<div>\n",
       "<style scoped>\n",
       "    .dataframe tbody tr th:only-of-type {\n",
       "        vertical-align: middle;\n",
       "    }\n",
       "\n",
       "    .dataframe tbody tr th {\n",
       "        vertical-align: top;\n",
       "    }\n",
       "\n",
       "    .dataframe thead th {\n",
       "        text-align: right;\n",
       "    }\n",
       "</style>\n",
       "<table border=\"1\" class=\"dataframe\">\n",
       "  <thead>\n",
       "    <tr style=\"text-align: right;\">\n",
       "      <th></th>\n",
       "      <th>3</th>\n",
       "      <th>1</th>\n",
       "      <th>2</th>\n",
       "      <th>0</th>\n",
       "    </tr>\n",
       "  </thead>\n",
       "  <tbody>\n",
       "    <tr>\n",
       "      <th>3</th>\n",
       "      <td>15</td>\n",
       "      <td>13</td>\n",
       "      <td>14</td>\n",
       "      <td>12</td>\n",
       "    </tr>\n",
       "    <tr>\n",
       "      <th>1</th>\n",
       "      <td>7</td>\n",
       "      <td>5</td>\n",
       "      <td>6</td>\n",
       "      <td>4</td>\n",
       "    </tr>\n",
       "    <tr>\n",
       "      <th>2</th>\n",
       "      <td>11</td>\n",
       "      <td>9</td>\n",
       "      <td>10</td>\n",
       "      <td>8</td>\n",
       "    </tr>\n",
       "    <tr>\n",
       "      <th>0</th>\n",
       "      <td>3</td>\n",
       "      <td>1</td>\n",
       "      <td>2</td>\n",
       "      <td>0</td>\n",
       "    </tr>\n",
       "  </tbody>\n",
       "</table>\n",
       "</div>"
      ],
      "text/plain": [
       "    3   1   2   0\n",
       "3  15  13  14  12\n",
       "1   7   5   6   4\n",
       "2  11   9  10   8\n",
       "0   3   1   2   0"
      ]
     },
     "execution_count": 154,
     "metadata": {},
     "output_type": "execute_result"
    }
   ],
   "source": [
    "\n",
    "df = pd.DataFrame(np.arange(5 * 4).reshape(5,4))\n",
    "display(df)\n",
    "print()\n",
    "#print(df.shape)\n",
    "sampler = np.random.permutation(4)\n",
    "print(sampler)\n",
    "print()\n",
    "df = df[sampler]\n",
    "#display(df)\n",
    "print(\"===============\")\n",
    "df.take(sampler)"
   ]
  },
  {
   "cell_type": "markdown",
   "metadata": {},
   "source": [
    "### Regular Expressions"
   ]
  },
  {
   "cell_type": "markdown",
   "metadata": {},
   "source": [
    "*When you call re.split('\\s+', text) , the regular expression is first compiled, and\n",
    "then its split method is called on the passed text. You can compile the regex yourself\n",
    "with re.compile , forming a reusable regex object*"
   ]
  },
  {
   "cell_type": "code",
   "execution_count": 162,
   "metadata": {},
   "outputs": [
    {
     "name": "stdout",
     "output_type": "stream",
     "text": [
      "Normal Splitiing:  ['foo', 'bar', 'baz', 'qux']\n",
      "\n",
      "Split By Space:  ['foo', '', '', '', 'bar\\t', 'baz', '\\tqux']\n"
     ]
    },
    {
     "data": {
      "text/plain": [
       "['foo', 'bar', 'baz', 'qux']"
      ]
     },
     "metadata": {},
     "output_type": "display_data"
    },
    {
     "data": {
      "text/plain": [
       "['foo', 'bar', 'baz', 'qux']"
      ]
     },
     "execution_count": 162,
     "metadata": {},
     "output_type": "execute_result"
    }
   ],
   "source": [
    "import re\n",
    "text = \"foo    bar\\t baz \\tqux\"\n",
    "\n",
    "a = text.split()\n",
    "\n",
    "print(\"Normal Splitiing: \",a)\n",
    "print()\n",
    "print(\"Split By Space: \",text.split(\" \"))\n",
    "\n",
    "display(re.split(\"\\s+\",text))\n",
    "\n",
    "# compile once to use again and again and save time\n",
    "a = re.compile(\"\\s+\")\n",
    "a.split(text)"
   ]
  },
  {
   "cell_type": "markdown",
   "metadata": {},
   "source": [
    "### Vectorized String Functions in pandas"
   ]
  },
  {
   "cell_type": "code",
   "execution_count": 169,
   "metadata": {},
   "outputs": [
    {
     "data": {
      "text/plain": [
       "0        email-type@gmail.com\n",
       "1            school@gmail.com\n",
       "2          coaching@gmail.com\n",
       "3            tution@gmail.com\n",
       "4         education@gmail.com\n",
       "5             study@gmail.com\n",
       "6           example@localhost\n",
       "7     user@[IPv6:2001:DB8::1]\n",
       "8         example@s.solutions\n",
       "9       plus+symbol@email.com\n",
       "10      dash-symbol@email.com\n",
       "dtype: object"
      ]
     },
     "metadata": {},
     "output_type": "display_data"
    },
    {
     "data": {
      "text/plain": [
       "0      email-type@gmail.com\n",
       "1          school@gmail.com\n",
       "2        coaching@gmail.com\n",
       "3          tution@gmail.com\n",
       "4       education@gmail.com\n",
       "5           study@gmail.com\n",
       "8       example@s.solutions\n",
       "9     plus+symbol@email.com\n",
       "10    dash-symbol@email.com\n",
       "dtype: object"
      ]
     },
     "execution_count": 169,
     "metadata": {},
     "output_type": "execute_result"
    }
   ],
   "source": [
    "data = [\"email-type@gmail.com\",\"school@gmail.com\",\"coaching@gmail.com\",\n",
    "       \"tution@gmail.com\",\"education@gmail.com\",\"study@gmail.com\",\n",
    "       \"example@localhost\",\"user@[IPv6:2001:DB8::1]\",\"example@s.solutions\",\n",
    "       \"plus+symbol@email.com\",\"dash-symbol@email.com\"]\n",
    "\n",
    "data = pd.Series(data)\n",
    "display(data)\n",
    "\n",
    "pattern = '([A-Z0-9._%+-]+)@([A-Z0-9.-]+)\\\\.([A-Z]{2,4})'\n",
    "\n",
    "#data.str.findall(pattern, flags=re.IGNORECASE)\n",
    "\n",
    "matches = data[data.str.match(pattern, flags=re.IGNORECASE)]\n",
    "matches"
   ]
  },
  {
   "cell_type": "code",
   "execution_count": null,
   "metadata": {},
   "outputs": [],
   "source": []
  }
 ],
 "metadata": {
  "kernelspec": {
   "display_name": "Python 3",
   "language": "python",
   "name": "python3"
  },
  "language_info": {
   "codemirror_mode": {
    "name": "ipython",
    "version": 3
   },
   "file_extension": ".py",
   "mimetype": "text/x-python",
   "name": "python",
   "nbconvert_exporter": "python",
   "pygments_lexer": "ipython3",
   "version": "3.7.3"
  }
 },
 "nbformat": 4,
 "nbformat_minor": 2
}
