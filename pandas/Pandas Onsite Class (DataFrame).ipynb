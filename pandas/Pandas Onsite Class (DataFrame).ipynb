{
 "cells": [
  {
   "cell_type": "markdown",
   "metadata": {},
   "source": [
    "# *Class 5:*"
   ]
  },
  {
   "cell_type": "markdown",
   "metadata": {},
   "source": [
    "### DataFrame:"
   ]
  },
  {
   "cell_type": "code",
   "execution_count": 1,
   "metadata": {},
   "outputs": [],
   "source": [
    "import pandas as pd\n",
    "import numpy as np"
   ]
  },
  {
   "cell_type": "code",
   "execution_count": 2,
   "metadata": {},
   "outputs": [
    {
     "name": "stdout",
     "output_type": "stream",
     "text": [
      "   Apples  Oranges\n",
      "0       1        4\n",
      "1       2        3\n",
      "2       3        2\n",
      "3       4        1\n"
     ]
    }
   ],
   "source": [
    "apples = pd.Series([1,2,3,4])\n",
    "oranges = pd.Series([4,3,2,1])\n",
    "data = {\"Apples\":apples,\"Oranges\":oranges}\n",
    "f = pd.DataFrame(data)\n",
    "print(f)"
   ]
  },
  {
   "cell_type": "code",
   "execution_count": 3,
   "metadata": {},
   "outputs": [
    {
     "name": "stdout",
     "output_type": "stream",
     "text": [
      "      Apples  Oranges\n",
      "A        1.0      NaN\n",
      "B        2.0      NaN\n",
      "C        3.0      NaN\n",
      "D        4.0      NaN\n",
      "Mon      NaN      4.0\n",
      "Thur     NaN      1.0\n",
      "Tue      NaN      3.0\n",
      "Wed      NaN      2.0\n"
     ]
    }
   ],
   "source": [
    "# Keep in Mind Index\n",
    "apples = pd.Series([1,2,3,4], index = [\"A\",\"B\",\"C\",\"D\"])\n",
    "oranges = pd.Series([4,3,2,1], index = [\"Mon\",\"Tue\",\"Wed\",\"Thur\"])\n",
    "\n",
    "data = {\"Apples\":apples,\"Oranges\":oranges}\n",
    "f = pd.DataFrame(data)\n",
    "print(f)"
   ]
  },
  {
   "cell_type": "code",
   "execution_count": 4,
   "metadata": {},
   "outputs": [
    {
     "name": "stdout",
     "output_type": "stream",
     "text": [
      "   Apples  Oranges\n",
      "A       1        4\n",
      "B       2        3\n",
      "C       3        2\n",
      "D       4        1\n"
     ]
    }
   ],
   "source": [
    "apples = pd.Series([1,2,3,4], index = [\"A\",\"B\",\"C\",\"D\"])\n",
    "oranges = pd.Series([4,3,2,1], index = [\"A\",\"B\",\"C\",\"D\"])\n",
    "\n",
    "data = {\"Apples\":apples,\"Oranges\":oranges}\n",
    "f = pd.DataFrame(data)\n",
    "print(f)"
   ]
  },
  {
   "cell_type": "code",
   "execution_count": 5,
   "metadata": {},
   "outputs": [
    {
     "name": "stdout",
     "output_type": "stream",
     "text": [
      "     State  Year  Pop\n",
      "0  Karachi  2000  1.5\n",
      "1  Karachi  2001  1.7\n",
      "2  Karachi  2002  3.6\n",
      "3   Lahore  2003  2.4\n",
      "4   Lahore  2004  2.9\n",
      "5   Lahore  2005  3.2\n"
     ]
    }
   ],
   "source": [
    "state = [\"Karachi\",\"Karachi\",\"Karachi\",\"Lahore\",\"Lahore\",\"Lahore\"]\n",
    "year = [2000,2001,2002,2003,2004,2005]\n",
    "pop = [1.5, 1.7, 3.6, 2.4, 2.9, 3.2]\n",
    "\n",
    "data = {\"State\":state,\"Year\":year,\"Pop\":pop}\n",
    "f = pd.DataFrame(data)\n",
    "print(f)"
   ]
  },
  {
   "cell_type": "code",
   "execution_count": 6,
   "metadata": {},
   "outputs": [
    {
     "name": "stdout",
     "output_type": "stream",
     "text": [
      "       State  Year  Pop\n",
      "1st  Karachi  2000  1.5\n",
      "2nd  Karachi  2001  1.7\n",
      "3rd  Karachi  2002  3.6\n",
      "4th   Lahore  2003  2.4\n",
      "5th   Lahore  2004  2.9\n",
      "6th   Lahore  2005  3.2\n"
     ]
    }
   ],
   "source": [
    "# Changing Index and shuffliing columns\n",
    "state = [\"Karachi\",\"Karachi\",\"Karachi\",\"Lahore\",\"Lahore\",\"Lahore\"]\n",
    "year = [2000,2001,2002,2003,2004,2005]\n",
    "pop = [1.5, 1.7, 3.6, 2.4, 2.9, 3.2]\n",
    "\n",
    "data = {\"State\":state,\"Year\":year,\"Pop\":pop}\n",
    "f = pd.DataFrame(data, index = [\"1st\",\"2nd\",\"3rd\",\"4th\",\"5th\",\"6th\"])\n",
    "print(f)"
   ]
  },
  {
   "cell_type": "code",
   "execution_count": 7,
   "metadata": {},
   "outputs": [
    {
     "name": "stdout",
     "output_type": "stream",
     "text": [
      "   Year    State  Pop\n",
      "0  2000  Karachi  1.5\n",
      "1  2001  Karachi  1.7\n",
      "2  2002  Karachi  3.6\n",
      "3  2003   Lahore  2.4\n",
      "4  2004   Lahore  2.9\n",
      "5  2005   Lahore  3.2\n"
     ]
    }
   ],
   "source": [
    "c = pd.DataFrame(data, columns = [\"Year\",\"State\",\"Pop\"])\n",
    "print(c)"
   ]
  },
  {
   "cell_type": "code",
   "execution_count": 8,
   "metadata": {},
   "outputs": [
    {
     "name": "stdout",
     "output_type": "stream",
     "text": [
      "   Year    State  Pop Debt\n",
      "0  2000  Karachi  1.5  NaN\n",
      "1  2001  Karachi  1.7  NaN\n",
      "2  2002  Karachi  3.6  NaN\n",
      "3  2003   Lahore  2.4  NaN\n",
      "4  2004   Lahore  2.9  NaN\n",
      "5  2005   Lahore  3.2  NaN\n"
     ]
    }
   ],
   "source": [
    "# Adding extra column \"Debt\" But in Debt every value will be \"NaN\"\n",
    "frame2 = pd.DataFrame(data, columns = [\"Year\",\"State\",\"Pop\",\"Debt\"])\n",
    "print(frame2)"
   ]
  },
  {
   "cell_type": "code",
   "execution_count": 9,
   "metadata": {},
   "outputs": [
    {
     "data": {
      "text/html": [
       "<div>\n",
       "<style scoped>\n",
       "    .dataframe tbody tr th:only-of-type {\n",
       "        vertical-align: middle;\n",
       "    }\n",
       "\n",
       "    .dataframe tbody tr th {\n",
       "        vertical-align: top;\n",
       "    }\n",
       "\n",
       "    .dataframe thead th {\n",
       "        text-align: right;\n",
       "    }\n",
       "</style>\n",
       "<table border=\"1\" class=\"dataframe\">\n",
       "  <thead>\n",
       "    <tr style=\"text-align: right;\">\n",
       "      <th></th>\n",
       "      <th>Year</th>\n",
       "      <th>State</th>\n",
       "      <th>Pop</th>\n",
       "      <th>Debt</th>\n",
       "    </tr>\n",
       "  </thead>\n",
       "  <tbody>\n",
       "    <tr>\n",
       "      <th>1st</th>\n",
       "      <td>2000</td>\n",
       "      <td>Karachi</td>\n",
       "      <td>1.5</td>\n",
       "      <td>NaN</td>\n",
       "    </tr>\n",
       "    <tr>\n",
       "      <th>2nd</th>\n",
       "      <td>2001</td>\n",
       "      <td>Karachi</td>\n",
       "      <td>1.7</td>\n",
       "      <td>NaN</td>\n",
       "    </tr>\n",
       "    <tr>\n",
       "      <th>3rd</th>\n",
       "      <td>2002</td>\n",
       "      <td>Karachi</td>\n",
       "      <td>3.6</td>\n",
       "      <td>NaN</td>\n",
       "    </tr>\n",
       "    <tr>\n",
       "      <th>4th</th>\n",
       "      <td>2003</td>\n",
       "      <td>Lahore</td>\n",
       "      <td>2.4</td>\n",
       "      <td>NaN</td>\n",
       "    </tr>\n",
       "    <tr>\n",
       "      <th>5th</th>\n",
       "      <td>2004</td>\n",
       "      <td>Lahore</td>\n",
       "      <td>2.9</td>\n",
       "      <td>NaN</td>\n",
       "    </tr>\n",
       "  </tbody>\n",
       "</table>\n",
       "</div>"
      ],
      "text/plain": [
       "     Year    State  Pop Debt\n",
       "1st  2000  Karachi  1.5  NaN\n",
       "2nd  2001  Karachi  1.7  NaN\n",
       "3rd  2002  Karachi  3.6  NaN\n",
       "4th  2003   Lahore  2.4  NaN\n",
       "5th  2004   Lahore  2.9  NaN"
      ]
     },
     "execution_count": 9,
     "metadata": {},
     "output_type": "execute_result"
    }
   ],
   "source": [
    "# df.head (It'll show you first 5 lines of your Data)\n",
    "frame2 = pd.DataFrame(data, columns = [\"Year\",\"State\",\"Pop\",\"Debt\"],\n",
    "                     index = [\"1st\",\"2nd\",\"3rd\",\"4th\",\"5th\",\"6th\"])\n",
    "frame2.head()"
   ]
  },
  {
   "cell_type": "code",
   "execution_count": 10,
   "metadata": {},
   "outputs": [
    {
     "name": "stdout",
     "output_type": "stream",
     "text": [
      "Index(['Year', 'State', 'Pop', 'Debt'], dtype='object')\n",
      "\n",
      "Index(['1st', '2nd', '3rd', '4th', '5th', '6th'], dtype='object')\n"
     ]
    }
   ],
   "source": [
    "# We can individually check index,column etc\n",
    "print(frame2.columns)\n",
    "print()\n",
    "print(frame2.index)"
   ]
  },
  {
   "cell_type": "code",
   "execution_count": 11,
   "metadata": {},
   "outputs": [
    {
     "data": {
      "text/plain": [
       "1st    Karachi\n",
       "2nd    Karachi\n",
       "3rd    Karachi\n",
       "4th     Lahore\n",
       "5th     Lahore\n",
       "6th     Lahore\n",
       "Name: State, dtype: object"
      ]
     },
     "execution_count": 11,
     "metadata": {},
     "output_type": "execute_result"
    }
   ],
   "source": [
    "#print(data)\n",
    "#data[\"State\"]\n",
    "\n",
    "frame2[\"State\"]"
   ]
  },
  {
   "cell_type": "code",
   "execution_count": 12,
   "metadata": {},
   "outputs": [
    {
     "data": {
      "text/plain": [
       "1st    2000\n",
       "2nd    2001\n",
       "3rd    2002\n",
       "4th    2003\n",
       "5th    2004\n",
       "6th    2005\n",
       "Name: Year, dtype: int64"
      ]
     },
     "execution_count": 12,
     "metadata": {},
     "output_type": "execute_result"
    }
   ],
   "source": [
    "frame2.Year"
   ]
  },
  {
   "cell_type": "code",
   "execution_count": 13,
   "metadata": {},
   "outputs": [
    {
     "name": "stdout",
     "output_type": "stream",
     "text": [
      "Year        2001\n",
      "State    Karachi\n",
      "Pop          1.7\n",
      "Debt         NaN\n",
      "Name: 2nd, dtype: object\n",
      "\n"
     ]
    },
    {
     "data": {
      "text/html": [
       "<div>\n",
       "<style scoped>\n",
       "    .dataframe tbody tr th:only-of-type {\n",
       "        vertical-align: middle;\n",
       "    }\n",
       "\n",
       "    .dataframe tbody tr th {\n",
       "        vertical-align: top;\n",
       "    }\n",
       "\n",
       "    .dataframe thead th {\n",
       "        text-align: right;\n",
       "    }\n",
       "</style>\n",
       "<table border=\"1\" class=\"dataframe\">\n",
       "  <thead>\n",
       "    <tr style=\"text-align: right;\">\n",
       "      <th></th>\n",
       "      <th>Year</th>\n",
       "      <th>State</th>\n",
       "      <th>Pop</th>\n",
       "      <th>Debt</th>\n",
       "    </tr>\n",
       "  </thead>\n",
       "  <tbody>\n",
       "    <tr>\n",
       "      <th>1st</th>\n",
       "      <td>2000</td>\n",
       "      <td>Karachi</td>\n",
       "      <td>1.5</td>\n",
       "      <td>NaN</td>\n",
       "    </tr>\n",
       "    <tr>\n",
       "      <th>2nd</th>\n",
       "      <td>2001</td>\n",
       "      <td>Karachi</td>\n",
       "      <td>1.7</td>\n",
       "      <td>NaN</td>\n",
       "    </tr>\n",
       "    <tr>\n",
       "      <th>3rd</th>\n",
       "      <td>2002</td>\n",
       "      <td>Karachi</td>\n",
       "      <td>3.6</td>\n",
       "      <td>NaN</td>\n",
       "    </tr>\n",
       "    <tr>\n",
       "      <th>4th</th>\n",
       "      <td>2003</td>\n",
       "      <td>Lahore</td>\n",
       "      <td>2.4</td>\n",
       "      <td>NaN</td>\n",
       "    </tr>\n",
       "    <tr>\n",
       "      <th>5th</th>\n",
       "      <td>2004</td>\n",
       "      <td>Lahore</td>\n",
       "      <td>2.9</td>\n",
       "      <td>NaN</td>\n",
       "    </tr>\n",
       "  </tbody>\n",
       "</table>\n",
       "</div>"
      ],
      "text/plain": [
       "     Year    State  Pop Debt\n",
       "1st  2000  Karachi  1.5  NaN\n",
       "2nd  2001  Karachi  1.7  NaN\n",
       "3rd  2002  Karachi  3.6  NaN\n",
       "4th  2003   Lahore  2.4  NaN\n",
       "5th  2004   Lahore  2.9  NaN"
      ]
     },
     "execution_count": 13,
     "metadata": {},
     "output_type": "execute_result"
    }
   ],
   "source": [
    "a = frame2.loc[\"2nd\"]\n",
    "print(a)\n",
    "print()\n",
    "frame2.head()"
   ]
  },
  {
   "cell_type": "code",
   "execution_count": 14,
   "metadata": {},
   "outputs": [
    {
     "data": {
      "text/html": [
       "<div>\n",
       "<style scoped>\n",
       "    .dataframe tbody tr th:only-of-type {\n",
       "        vertical-align: middle;\n",
       "    }\n",
       "\n",
       "    .dataframe tbody tr th {\n",
       "        vertical-align: top;\n",
       "    }\n",
       "\n",
       "    .dataframe thead th {\n",
       "        text-align: right;\n",
       "    }\n",
       "</style>\n",
       "<table border=\"1\" class=\"dataframe\">\n",
       "  <thead>\n",
       "    <tr style=\"text-align: right;\">\n",
       "      <th></th>\n",
       "      <th>Year</th>\n",
       "      <th>State</th>\n",
       "      <th>Pop</th>\n",
       "      <th>Debt</th>\n",
       "    </tr>\n",
       "  </thead>\n",
       "  <tbody>\n",
       "    <tr>\n",
       "      <th>1st</th>\n",
       "      <td>2000</td>\n",
       "      <td>Karachi</td>\n",
       "      <td>1.5</td>\n",
       "      <td>20</td>\n",
       "    </tr>\n",
       "    <tr>\n",
       "      <th>2nd</th>\n",
       "      <td>2001</td>\n",
       "      <td>Karachi</td>\n",
       "      <td>1.7</td>\n",
       "      <td>20</td>\n",
       "    </tr>\n",
       "    <tr>\n",
       "      <th>3rd</th>\n",
       "      <td>2002</td>\n",
       "      <td>Karachi</td>\n",
       "      <td>3.6</td>\n",
       "      <td>20</td>\n",
       "    </tr>\n",
       "    <tr>\n",
       "      <th>4th</th>\n",
       "      <td>2003</td>\n",
       "      <td>Lahore</td>\n",
       "      <td>2.4</td>\n",
       "      <td>20</td>\n",
       "    </tr>\n",
       "    <tr>\n",
       "      <th>5th</th>\n",
       "      <td>2004</td>\n",
       "      <td>Lahore</td>\n",
       "      <td>2.9</td>\n",
       "      <td>20</td>\n",
       "    </tr>\n",
       "  </tbody>\n",
       "</table>\n",
       "</div>"
      ],
      "text/plain": [
       "     Year    State  Pop  Debt\n",
       "1st  2000  Karachi  1.5    20\n",
       "2nd  2001  Karachi  1.7    20\n",
       "3rd  2002  Karachi  3.6    20\n",
       "4th  2003   Lahore  2.4    20\n",
       "5th  2004   Lahore  2.9    20"
      ]
     },
     "execution_count": 14,
     "metadata": {},
     "output_type": "execute_result"
    }
   ],
   "source": [
    "# the empty 'debt' column could be assigned a scalar value or an array of values\n",
    "frame2[\"Debt\"] = 20\n",
    "frame2.head()"
   ]
  },
  {
   "cell_type": "code",
   "execution_count": 15,
   "metadata": {},
   "outputs": [
    {
     "data": {
      "text/html": [
       "<div>\n",
       "<style scoped>\n",
       "    .dataframe tbody tr th:only-of-type {\n",
       "        vertical-align: middle;\n",
       "    }\n",
       "\n",
       "    .dataframe tbody tr th {\n",
       "        vertical-align: top;\n",
       "    }\n",
       "\n",
       "    .dataframe thead th {\n",
       "        text-align: right;\n",
       "    }\n",
       "</style>\n",
       "<table border=\"1\" class=\"dataframe\">\n",
       "  <thead>\n",
       "    <tr style=\"text-align: right;\">\n",
       "      <th></th>\n",
       "      <th>Year</th>\n",
       "      <th>State</th>\n",
       "      <th>Pop</th>\n",
       "      <th>Debt</th>\n",
       "    </tr>\n",
       "  </thead>\n",
       "  <tbody>\n",
       "    <tr>\n",
       "      <th>1st</th>\n",
       "      <td>2000</td>\n",
       "      <td>Karachi</td>\n",
       "      <td>1.5</td>\n",
       "      <td>0</td>\n",
       "    </tr>\n",
       "    <tr>\n",
       "      <th>2nd</th>\n",
       "      <td>2001</td>\n",
       "      <td>Karachi</td>\n",
       "      <td>1.7</td>\n",
       "      <td>1</td>\n",
       "    </tr>\n",
       "    <tr>\n",
       "      <th>3rd</th>\n",
       "      <td>2002</td>\n",
       "      <td>Karachi</td>\n",
       "      <td>3.6</td>\n",
       "      <td>2</td>\n",
       "    </tr>\n",
       "    <tr>\n",
       "      <th>4th</th>\n",
       "      <td>2003</td>\n",
       "      <td>Lahore</td>\n",
       "      <td>2.4</td>\n",
       "      <td>3</td>\n",
       "    </tr>\n",
       "    <tr>\n",
       "      <th>5th</th>\n",
       "      <td>2004</td>\n",
       "      <td>Lahore</td>\n",
       "      <td>2.9</td>\n",
       "      <td>4</td>\n",
       "    </tr>\n",
       "    <tr>\n",
       "      <th>6th</th>\n",
       "      <td>2005</td>\n",
       "      <td>Lahore</td>\n",
       "      <td>3.2</td>\n",
       "      <td>5</td>\n",
       "    </tr>\n",
       "  </tbody>\n",
       "</table>\n",
       "</div>"
      ],
      "text/plain": [
       "     Year    State  Pop  Debt\n",
       "1st  2000  Karachi  1.5     0\n",
       "2nd  2001  Karachi  1.7     1\n",
       "3rd  2002  Karachi  3.6     2\n",
       "4th  2003   Lahore  2.4     3\n",
       "5th  2004   Lahore  2.9     4\n",
       "6th  2005   Lahore  3.2     5"
      ]
     },
     "execution_count": 15,
     "metadata": {},
     "output_type": "execute_result"
    }
   ],
   "source": [
    "#frame2.head()\n",
    "ln = len(frame2)\n",
    "a = np.arange(ln)\n",
    "frame2[\"Debt\"] = a\n",
    "frame2"
   ]
  },
  {
   "cell_type": "code",
   "execution_count": 16,
   "metadata": {},
   "outputs": [
    {
     "data": {
      "text/html": [
       "<div>\n",
       "<style scoped>\n",
       "    .dataframe tbody tr th:only-of-type {\n",
       "        vertical-align: middle;\n",
       "    }\n",
       "\n",
       "    .dataframe tbody tr th {\n",
       "        vertical-align: top;\n",
       "    }\n",
       "\n",
       "    .dataframe thead th {\n",
       "        text-align: right;\n",
       "    }\n",
       "</style>\n",
       "<table border=\"1\" class=\"dataframe\">\n",
       "  <thead>\n",
       "    <tr style=\"text-align: right;\">\n",
       "      <th></th>\n",
       "      <th>Year</th>\n",
       "      <th>State</th>\n",
       "      <th>Pop</th>\n",
       "      <th>Debt</th>\n",
       "    </tr>\n",
       "  </thead>\n",
       "  <tbody>\n",
       "    <tr>\n",
       "      <th>1st</th>\n",
       "      <td>2000</td>\n",
       "      <td>Karachi</td>\n",
       "      <td>1.5</td>\n",
       "      <td>NaN</td>\n",
       "    </tr>\n",
       "    <tr>\n",
       "      <th>2nd</th>\n",
       "      <td>2001</td>\n",
       "      <td>Karachi</td>\n",
       "      <td>1.7</td>\n",
       "      <td>NaN</td>\n",
       "    </tr>\n",
       "    <tr>\n",
       "      <th>3rd</th>\n",
       "      <td>2002</td>\n",
       "      <td>Karachi</td>\n",
       "      <td>3.6</td>\n",
       "      <td>NaN</td>\n",
       "    </tr>\n",
       "    <tr>\n",
       "      <th>4th</th>\n",
       "      <td>2003</td>\n",
       "      <td>Lahore</td>\n",
       "      <td>2.4</td>\n",
       "      <td>NaN</td>\n",
       "    </tr>\n",
       "    <tr>\n",
       "      <th>5th</th>\n",
       "      <td>2004</td>\n",
       "      <td>Lahore</td>\n",
       "      <td>2.9</td>\n",
       "      <td>NaN</td>\n",
       "    </tr>\n",
       "    <tr>\n",
       "      <th>6th</th>\n",
       "      <td>2005</td>\n",
       "      <td>Lahore</td>\n",
       "      <td>3.2</td>\n",
       "      <td>NaN</td>\n",
       "    </tr>\n",
       "  </tbody>\n",
       "</table>\n",
       "</div>"
      ],
      "text/plain": [
       "     Year    State  Pop  Debt\n",
       "1st  2000  Karachi  1.5   NaN\n",
       "2nd  2001  Karachi  1.7   NaN\n",
       "3rd  2002  Karachi  3.6   NaN\n",
       "4th  2003   Lahore  2.4   NaN\n",
       "5th  2004   Lahore  2.9   NaN\n",
       "6th  2005   Lahore  3.2   NaN"
      ]
     },
     "execution_count": 16,
     "metadata": {},
     "output_type": "execute_result"
    }
   ],
   "source": [
    "# point to remember , inserting new values, needs to be match in length of dataFrame (number of elements)\n",
    "val = pd.Series([-1.2, -1.5, -1.7, -1.2, -1.5, -1.7, 2.2],\n",
    "               index = [\"One\",\"Two\",\"Three\",\"Four\",'Five',\"Six\",\"Seven\"])\n",
    "#print(val)\n",
    "frame2[\"Debt\"] = val\n",
    "frame2"
   ]
  },
  {
   "cell_type": "code",
   "execution_count": 17,
   "metadata": {},
   "outputs": [
    {
     "name": "stdout",
     "output_type": "stream",
     "text": [
      "0      blue\n",
      "3    purple\n",
      "6    yellow\n",
      "dtype: object\n",
      "0      blue\n",
      "1      blue\n",
      "2      blue\n",
      "3    purple\n",
      "4    purple\n",
      "5    purple\n",
      "6    yellow\n",
      "7    yellow\n",
      "8    yellow\n",
      "dtype: object\n",
      "2       blue\n",
      "3     purple\n",
      "4     purple\n",
      "5     purple\n",
      "6     yellow\n",
      "7     yellow\n",
      "8     yellow\n",
      "9     yellow\n",
      "10    yellow\n",
      "dtype: object\n"
     ]
    }
   ],
   "source": [
    "# index length must be equal to values ( or , do not provide index)\n",
    "obj3 = pd.Series(['blue', 'purple', 'yellow'], index=[0, 3, 6])\n",
    "print(obj3)\n",
    "#obj3 =obj3.reindex(range(9))\n",
    "#print(obj3)\n",
    "obj3 =obj3.reindex(range(9),method=\"ffill\")\n",
    "print(obj3)\n",
    "obj3 =obj3.reindex(range(2,11), method=\"ffill\")\n",
    "print(obj3)"
   ]
  },
  {
   "cell_type": "code",
   "execution_count": 18,
   "metadata": {},
   "outputs": [
    {
     "name": "stdout",
     "output_type": "stream",
     "text": [
      "   Ohio  Texas  California\n",
      "a     0      1           2\n",
      "b     3      4           5\n",
      "c     6      7           8\n",
      "\n",
      "   Ohio  Texas  California\n",
      "a     0      1           2\n",
      "b     3      4           5\n",
      "c     6      7           8\n",
      "d     6      7           8\n"
     ]
    }
   ],
   "source": [
    "states = pd.DataFrame(np.arange(9).reshape((3,3)),index = [\"a\",\"b\",\"c\"],columns = [\"Ohio\",\"Texas\",\"California\"])\n",
    "print(states)\n",
    "print()\n",
    "states = states.reindex([\"a\",\"b\",\"c\",\"d\"],method = \"ffill\")\n",
    "print(states)"
   ]
  },
  {
   "cell_type": "code",
   "execution_count": 19,
   "metadata": {},
   "outputs": [
    {
     "name": "stdout",
     "output_type": "stream",
     "text": [
      "   Ohio  Texas  California\n",
      "a     0      1           2\n",
      "b     3      4           5\n",
      "c     6      7           8\n",
      "\n",
      "   Texas  Utah  California  Ohio\n",
      "a      1   NaN           2     0\n",
      "b      4   NaN           5     3\n",
      "c      7   NaN           8     6\n"
     ]
    }
   ],
   "source": [
    "states = pd.DataFrame(np.arange(9).reshape((3,3)),index = [\"a\",\"b\",\"c\"],columns = [\"Ohio\",\"Texas\",\"California\"])\n",
    "print(states)\n",
    "print()\n",
    "states_name = ['Texas', 'Utah', 'California','Ohio']\n",
    "states = states.reindex(columns=states_name)\n",
    "print(states)"
   ]
  },
  {
   "cell_type": "code",
   "execution_count": 20,
   "metadata": {},
   "outputs": [
    {
     "name": "stdout",
     "output_type": "stream",
     "text": [
      "            One  Two  Three  Four\n",
      "Ohio          0    1      2     3\n",
      "Texas         4    5      6     7\n",
      "California    8    9     10    11\n",
      "New York     12   13     14    15\n",
      "\n",
      "            One  Two  Four\n",
      "Ohio          0    1     3\n",
      "Texas         4    5     7\n",
      "California    8    9    11\n",
      "New York     12   13    15\n"
     ]
    }
   ],
   "source": [
    "# Deleting data (row or column from dataframe) \n",
    "data2 = pd.DataFrame(np.arange(16).reshape((4,4)),\n",
    "                     index=[\"Ohio\",\"Texas\",\"California\",\"New York\"],columns=[\"One\",\"Two\",\"Three\",\"Four\"])\n",
    "print(data2)\n",
    "print()\n",
    "#data2.drop([\"California\", \"Ohio\"], inplace =True)\n",
    "#print(data2)\n",
    "\n",
    "#data2 = data2.drop(\"Three\",axis=1)\n",
    "data2.drop(\"Three\", axis=1, inplace = True)\n",
    "print(data2)"
   ]
  },
  {
   "cell_type": "code",
   "execution_count": 21,
   "metadata": {},
   "outputs": [
    {
     "name": "stdout",
     "output_type": "stream",
     "text": [
      "\n",
      "\n",
      "Ohio          False\n",
      "Texas          True\n",
      "California     True\n",
      "New York       True\n",
      "Name: Four, dtype: bool\n",
      "\n",
      "            One  Two  Three  Four\n",
      "Texas         4    5      6     7\n",
      "California    8    9     10    11\n",
      "New York     12   13     14    15\n"
     ]
    }
   ],
   "source": [
    "data2 = pd.DataFrame(np.arange(16).reshape((4,4)),\n",
    "                     index=[\"Ohio\",\"Texas\",\"California\",\"New York\"],columns=[\"One\",\"Two\",\"Three\",\"Four\"])\n",
    "#print(data2)\n",
    "print()\n",
    "df2 = data2[[\"One\",\"Three\"]]\n",
    "#print(df2)\n",
    "print()\n",
    "\n",
    "# Indexing same as Numpy\n",
    "a = data2[2:]\n",
    "#print(a)\n",
    "\n",
    "# dicitonary like style of accessing data\n",
    "b = data2[\"One\"]\n",
    "#print(b)\n",
    "\n",
    "# filter on both row and column\n",
    "c = data2.Three[2:]\n",
    "#print(c)\n",
    "\n",
    "# Conditonal Selection\n",
    "d = data2.Three[data2[\"Three\"] > 5]\n",
    "#print(d)\n",
    "\n",
    "#Boolean DatFrame\n",
    "df2 = data2[\"Four\"] > 5\n",
    "print(df2)\n",
    "print()\n",
    "\n",
    "print(data2[data2[\"Four\"] > 5])"
   ]
  },
  {
   "cell_type": "code",
   "execution_count": 22,
   "metadata": {},
   "outputs": [
    {
     "name": "stdout",
     "output_type": "stream",
     "text": [
      "            One  Two  Three  Four\n",
      "Ohio          0    1      2     3\n",
      "Texas         4    5      6     7\n",
      "California    8    9     10    11\n",
      "New York     12   13     14    15\n",
      "\n",
      "\n",
      "            One  Two\n",
      "Ohio          0    1\n",
      "Texas         4    5\n",
      "California    8    9\n",
      "New York     12   13\n"
     ]
    }
   ],
   "source": [
    "print(data2)\n",
    "print(\"\\n\")\n",
    "\n",
    "# in \"loc\" method specify row label first then specify column names\n",
    "a = data2.loc[[\"Ohio\",\"Texas\"],[\"Three\",\"Four\"]]\n",
    "#print(a)\n",
    "\n",
    "# in \"iloc\" use number instead of labels\n",
    "b = data2.iloc[2,[1,2,3]]\n",
    "#print(b)\n",
    "\n",
    "c = data2.iloc[:2,:4]\n",
    "#print(c)\n",
    "\n",
    "print(data2.iloc[: , :2])"
   ]
  },
  {
   "cell_type": "code",
   "execution_count": 23,
   "metadata": {},
   "outputs": [
    {
     "name": "stdout",
     "output_type": "stream",
     "text": [
      "            a     b   c   d   e\n",
      "Islamabad NaN  13.0 NaN NaN NaN\n",
      "KPK       NaN   NaN NaN NaN NaN\n",
      "Karachi   NaN   1.0 NaN NaN NaN\n",
      "Lahore    NaN   7.0 NaN NaN NaN\n",
      "              a       b     c     d     e\n",
      "Islamabad  5000    13.0  3000  2000  1000\n",
      "KPK        5000  4000.0  3000  2000  1000\n",
      "Karachi    5000     1.0  3000  2000  1000\n",
      "Lahore     5000     7.0  3000  2000  1000\n"
     ]
    }
   ],
   "source": [
    "df1 = pd.DataFrame(np.arange(9.).reshape((3, 3)), \n",
    "                   columns=list(\"abc\"), \n",
    "                   index=[\"Karachi\", \"Lahore\", \"Islamabad\"])\n",
    "\n",
    "df2 = pd.DataFrame(np.arange(12.).reshape((4, 3)), \n",
    "                   columns=list(\"bde\"),\n",
    "                    index=[\"Karachi\", \"Lahore\", \"Islamabad\",\"KPK\"])\n",
    "#print(df1, \"\\n\")\n",
    "#print(df2, \"\\n\")\n",
    "\n",
    "# applying plus operation between two data frames\n",
    "df3 = df1 + df2\n",
    "print(df3)\n",
    "\n",
    "df3[\"a\"] = 5000\n",
    "df3.loc[\"KPK\",\"b\"] = 4000\n",
    "df3[\"c\"] = 3000\n",
    "df3[\"d\"] = 2000\n",
    "df3[\"e\"] = 1000\n",
    "print(df3)"
   ]
  },
  {
   "cell_type": "code",
   "execution_count": 24,
   "metadata": {},
   "outputs": [
    {
     "name": "stdout",
     "output_type": "stream",
     "text": [
      "      a     b     c     d     e\n",
      "0   0.0   2.0   4.0   6.0   5.0\n",
      "1   9.0   6.0  13.0  15.0  10.0\n",
      "2  18.0  20.0  22.0  24.0  15.0\n",
      "3  16.0  17.0  18.0  19.0  20.0\n"
     ]
    }
   ],
   "source": [
    "df1 = pd.DataFrame(np.arange(12.).reshape((3, 4)),\n",
    "                   columns=list('abcd'))\n",
    "df2 = pd.DataFrame(np.arange(20.).reshape((4, 5)),\n",
    "                    columns=list('abcde'))\n",
    "#print(df1)\n",
    "#print(df2)\n",
    "\n",
    "df2.loc[1,\"b\"] = np.nan\n",
    "#print(df2)\n",
    "\n",
    "df3 = df1 + df2\n",
    "#print(df3)\n",
    "\n",
    "# We can use add method for filling NaN cells with a value\n",
    "# Nan will be replaced by 0 and then addition operation will apply\n",
    "\n",
    "df3 = df1.add(df2,fill_value = 1)\n",
    "print(df3)"
   ]
  },
  {
   "cell_type": "code",
   "execution_count": 25,
   "metadata": {},
   "outputs": [
    {
     "name": "stdout",
     "output_type": "stream",
     "text": [
      "          a     b     c\n",
      "Utah    0.0   1.0   2.0\n",
      "Ohio    3.0   4.0   5.0\n",
      "Texas   6.0   7.0   8.0\n",
      "Oregon  9.0  10.0  11.0 \n",
      "\n",
      "          a    b    c\n",
      "Utah   -1.0 -1.0 -1.0\n",
      "Ohio    2.0  2.0  2.0\n",
      "Texas   5.0  5.0  5.0\n",
      "Oregon  8.0  8.0  8.0\n"
     ]
    }
   ],
   "source": [
    "frame = pd.DataFrame(np.arange(12.).reshape((4, 3)),\n",
    "            columns=list(\"abc\"), \n",
    "                     index=[\"Utah\", \"Ohio\", \"Texas\", \"Oregon\"])\n",
    "#print(frame)\n",
    "series = frame.iloc[:]\n",
    "print(series, \"\\n\")\n",
    "# print(\"Values:\", series.values, \"\\n\")\n",
    "# print(\"Index:\", series.index, \"\\n\")\n",
    "\n",
    "#print(frame - series)\n",
    "\n",
    "series = pd.Series([1,2,3], index = list(\"abc\"))\n",
    "#print(\"Values:\", series.values, \"\\n\")\n",
    "#print(\"Index:\", series.index, \"\\n\")\n",
    "print(frame - series)"
   ]
  },
  {
   "cell_type": "code",
   "execution_count": 26,
   "metadata": {},
   "outputs": [
    {
     "name": "stdout",
     "output_type": "stream",
     "text": [
      "          a     b     c\n",
      "Utah    0.0   1.0   2.0\n",
      "Ohio    3.0   4.0   5.0\n",
      "Texas   6.0   7.0   8.0\n",
      "Oregon  9.0  10.0  11.0 \n",
      "\n",
      "       a     b     c\n",
      "min  9.0  10.0  11.0\n",
      "max  0.0   1.0   2.0\n"
     ]
    }
   ],
   "source": [
    "print(frame, \"\\n\")\n",
    "\n",
    "#print(frame[\"b\"]. min())\n",
    "#print(frame[\"b\"].max())\n",
    "#print(frame[\"a\"].max() - frame[\"c\"]. min())  # 8 -1 = 7\n",
    "\n",
    "f = lambda x: x.max() - x.min()\n",
    "#print(f)\n",
    "#df = frame.apply(f)\n",
    "#print(df, \"\\n\")\n",
    "#df = frame.apply(f, axis=1)\n",
    "#print(df, \"\\n\")\n",
    "\n",
    "def min_max(x):\n",
    "    return pd.Series( [x.max(), x.min() ], index=['min', 'max'])\n",
    "df = frame.apply(min_max)\n",
    "print(df)"
   ]
  },
  {
   "cell_type": "code",
   "execution_count": 27,
   "metadata": {},
   "outputs": [
    {
     "name": "stdout",
     "output_type": "stream",
     "text": [
      "     A  B  C  D\n",
      "Two  0  1  2  3\n",
      "One  4  5  6  7 \n",
      "\n",
      "     D  C  B  A\n",
      "Two  3  2  1  0\n",
      "One  7  6  5  4 \n",
      "\n",
      "     A  B  C  D\n",
      "One  4  5  6  7\n",
      "Two  0  1  2  3\n"
     ]
    }
   ],
   "source": [
    "frame = pd.DataFrame(np.arange(8).reshape((2, 4)),\n",
    "                     index=[\"Two\", \"One\"],\n",
    "                     columns=[\"A\",\"B\",\"C\",\"D\"])\n",
    "print(frame, \"\\n\")\n",
    "\n",
    "# defaults in sort: axis = 0, ascending = True\n",
    "print(frame.sort_index(axis = 1, ascending = False), \"\\n\")\n",
    "print(frame.sort_index())"
   ]
  },
  {
   "cell_type": "code",
   "execution_count": 28,
   "metadata": {},
   "outputs": [
    {
     "name": "stdout",
     "output_type": "stream",
     "text": [
      "     A  B  C  D\n",
      "Two  0  1  2  3\n",
      "One  4  5  6  7\n",
      "       A    B    C    D\n",
      "Two  2.0  2.0  2.0  2.0\n",
      "One  1.0  1.0  1.0  1.0\n",
      "       A    B    C    D\n",
      "Two  1.0  1.0  1.0  1.0\n",
      "One  2.0  2.0  2.0  2.0\n"
     ]
    }
   ],
   "source": [
    "# sort by values\n",
    "print(frame.sort_values(by=\"C\"))\n",
    "\n",
    "print(frame.rank(ascending = False, method = \"max\"))\n",
    "print(frame.rank(ascending = True, method = \"min\"))"
   ]
  },
  {
   "cell_type": "code",
   "execution_count": 29,
   "metadata": {},
   "outputs": [
    {
     "name": "stdout",
     "output_type": "stream",
     "text": [
      "   One  Two\n",
      "a  1.4  NaN\n",
      "b  7.1  7.2\n",
      "c  NaN  3.4\n",
      "d  NaN  NaN \n",
      "\n",
      "One     8.5\n",
      "Two    10.6\n",
      "dtype: float64 \n",
      "\n",
      "a     1.4\n",
      "b    14.3\n",
      "c     3.4\n",
      "d     0.0\n",
      "dtype: float64\n"
     ]
    }
   ],
   "source": [
    "#Summarizing and Computing Descriptive Statistics\n",
    "\n",
    "df = pd.DataFrame([[1.4,np.nan], [7.1,7.2],\n",
    "                  [np.nan,3.4], [np.nan,np.nan],\n",
    "                  ], index = [\"a\",\"b\",\"c\",\"d\"] ,columns = [\"One\",\"Two\"])\n",
    "print(df, \"\\n\")\n",
    "print(df.sum(), \"\\n\")\n",
    "print(df.sum(axis = \"columns\"))"
   ]
  },
  {
   "cell_type": "code",
   "execution_count": 30,
   "metadata": {},
   "outputs": [
    {
     "name": "stdout",
     "output_type": "stream",
     "text": [
      "a     NaN\n",
      "b    7.15\n",
      "c     NaN\n",
      "d     NaN\n",
      "dtype: float64\n"
     ]
    }
   ],
   "source": [
    "#print(df)\n",
    "a = df.mean(axis = \"columns\", skipna = False)\n",
    "print(a)"
   ]
  },
  {
   "cell_type": "code",
   "execution_count": 39,
   "metadata": {},
   "outputs": [
    {
     "name": "stdout",
     "output_type": "stream",
     "text": [
      "         A  B    C    D\n",
      "One    NaN  2  2.0  NaN\n",
      "Two    3.0  2  NaN  1.0\n",
      "Three  7.0  8  NaN  NaN\n",
      "Four   9.0  4  2.0  NaN \n",
      "\n",
      "[nan  3.  7.  9.] [nan  1.]\n",
      "\n"
     ]
    },
    {
     "data": {
      "text/plain": [
       "2.0    2\n",
       "Name: C, dtype: int64"
      ]
     },
     "execution_count": 39,
     "metadata": {},
     "output_type": "execute_result"
    }
   ],
   "source": [
    "ab = pd.DataFrame([[np.nan,2,2,np.nan],[3,2,np.nan,1],[7,8,np.nan,np.nan],[9,4,2,np.nan]],\n",
    "                 index = [\"One\",\"Two\",\"Three\",\"Four\"],columns = [\"A\",\"B\",\"C\",\"D\"])\n",
    "print(ab, \"\\n\")\n",
    "print(ab[\"A\"].unique(), ab[\"D\"].unique())\n",
    "print()\n",
    "ab[\"C\"].value_counts()"
   ]
  },
  {
   "cell_type": "code",
   "execution_count": null,
   "metadata": {},
   "outputs": [],
   "source": []
  }
 ],
 "metadata": {
  "kernelspec": {
   "display_name": "Python 3",
   "language": "python",
   "name": "python3"
  },
  "language_info": {
   "codemirror_mode": {
    "name": "ipython",
    "version": 3
   },
   "file_extension": ".py",
   "mimetype": "text/x-python",
   "name": "python",
   "nbconvert_exporter": "python",
   "pygments_lexer": "ipython3",
   "version": "3.7.3"
  }
 },
 "nbformat": 4,
 "nbformat_minor": 2
}
