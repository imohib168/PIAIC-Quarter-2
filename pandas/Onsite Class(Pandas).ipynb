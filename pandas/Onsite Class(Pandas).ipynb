{
 "cells": [
  {
   "cell_type": "markdown",
   "metadata": {},
   "source": [
    "# *4th Class:*"
   ]
  },
  {
   "cell_type": "code",
   "execution_count": 1,
   "metadata": {},
   "outputs": [],
   "source": [
    "import pandas as pd"
   ]
  },
  {
   "cell_type": "code",
   "execution_count": 2,
   "metadata": {},
   "outputs": [
    {
     "name": "stdout",
     "output_type": "stream",
     "text": [
      "0    4\n",
      "1    3\n",
      "2    2\n",
      "3    1\n",
      "dtype: int64\n"
     ]
    }
   ],
   "source": [
    "o = pd.Series([4,3,2,1])\n",
    "print(o)"
   ]
  },
  {
   "cell_type": "code",
   "execution_count": 3,
   "metadata": {},
   "outputs": [
    {
     "name": "stdout",
     "output_type": "stream",
     "text": [
      "Values:  [100 200 300 400]\n",
      "Index:  RangeIndex(start=0, stop=4, step=1)\n"
     ]
    }
   ],
   "source": [
    "s = pd.Series([100,200,300,400])\n",
    "print(\"Values: \",s.values)\n",
    "print(\"Index: \",s.index)"
   ]
  },
  {
   "cell_type": "code",
   "execution_count": 4,
   "metadata": {},
   "outputs": [
    {
     "name": "stdout",
     "output_type": "stream",
     "text": [
      "Monday       30\n",
      "Tuesday      20\n",
      "Wednesday    10\n",
      "Thursday     40\n",
      "Friday       25\n",
      "Saturday     40\n",
      "Sunday        0\n",
      "dtype: int64\n"
     ]
    }
   ],
   "source": [
    "s = pd.Series([30,20,10,40,25,40,0],index = ['Monday','Tuesday','Wednesday','Thursday','Friday','Saturday','Sunday'])\n",
    "print(s)"
   ]
  },
  {
   "cell_type": "code",
   "execution_count": 5,
   "metadata": {
    "scrolled": true
   },
   "outputs": [
    {
     "name": "stdout",
     "output_type": "stream",
     "text": [
      "Punjab         4500.0\n",
      "Sindh          3500.0\n",
      "KPK            3000.0\n",
      "Balochistan    4000.0\n",
      "GB                NaN\n",
      "dtype: float64\n",
      "==============================\n",
      "Punjab         False\n",
      "Sindh          False\n",
      "KPK            False\n",
      "Balochistan    False\n",
      "GB              True\n",
      "dtype: bool\n"
     ]
    }
   ],
   "source": [
    "sdata  ={\"Sindh\":3500,\"Punjab\":4500,\"KPK\":3000,\"Balochistan\":4000}\n",
    "tax_by_state = pd.Series(sdata, index = [\"Punjab\",\"Sindh\",\"KPK\",\"Balochistan\",\"GB\"])\n",
    "print(tax_by_state)\n",
    "print(\"==============================\")\n",
    "print(pd.isnull(tax_by_state))"
   ]
  },
  {
   "cell_type": "code",
   "execution_count": 6,
   "metadata": {},
   "outputs": [
    {
     "data": {
      "text/plain": [
       "Punjab         False\n",
       "Sindh          False\n",
       "KPK            False\n",
       "Balochistan    False\n",
       "GB              True\n",
       "dtype: bool"
      ]
     },
     "execution_count": 6,
     "metadata": {},
     "output_type": "execute_result"
    }
   ],
   "source": [
    "tax_by_state.isnull()"
   ]
  },
  {
   "cell_type": "code",
   "execution_count": 7,
   "metadata": {},
   "outputs": [
    {
     "name": "stdout",
     "output_type": "stream",
     "text": [
      "mon    20\n",
      "tue    30\n",
      "wed    20\n",
      "thr    25\n",
      "fri    30\n",
      "sat    40\n",
      "sun     0\n",
      "dtype: int64\n",
      "m    20\n",
      "t    30\n",
      "w    20\n",
      "t    25\n",
      "f    30\n",
      "s    40\n",
      "s     0\n",
      "dtype: int64\n"
     ]
    }
   ],
   "source": [
    "sw = pd.Series([20, 30, 20, 25, 30, 40, 0], \n",
    "               index = ['mon', 'tue', 'wed', 'thr','fri', 'sat', 'sun'])\n",
    "print(sw)\n",
    "sw.index = [\"m\", \"t\", \"w\", \"t\", \"f\", \"s\", \"s\"]\n",
    "print(sw)"
   ]
  },
  {
   "cell_type": "code",
   "execution_count": 8,
   "metadata": {},
   "outputs": [
    {
     "name": "stdout",
     "output_type": "stream",
     "text": [
      "Mon      20\n",
      "Tue      30\n",
      "Wed      40\n",
      "Thurs    50\n",
      "Fri      60\n",
      "Sat      70\n",
      "Sun      80\n",
      "dtype: int64\n",
      "=================================\n",
      "M    20\n",
      "T    30\n",
      "W    40\n",
      "T    50\n",
      "F    60\n",
      "S    70\n",
      "S    80\n",
      "dtype: int64\n"
     ]
    }
   ],
   "source": [
    "s = pd.Series([20,30,40,50,60,70,80],\n",
    "             index = [\"Mon\",\"Tue\",\"Wed\",\"Thurs\",\"Fri\",\"Sat\",\"Sun\"])\n",
    "print(s)\n",
    "s.index = [\"M\",\"T\",\"W\",\"T\",\"F\",\"S\",\"S\"]\n",
    "print(\"=================================\")\n",
    "print(s)"
   ]
  },
  {
   "cell_type": "code",
   "execution_count": 9,
   "metadata": {},
   "outputs": [
    {
     "name": "stdout",
     "output_type": "stream",
     "text": [
      "a    2\n",
      "b    3\n",
      "c    4\n",
      "d    5\n",
      "e    6\n",
      "f    7\n",
      "dtype: int32\n"
     ]
    }
   ],
   "source": [
    "import numpy as np\n",
    "a = np.array([2,3,4,5,6,7])\n",
    "b = np.array([\"a\",\"b\",\"c\",\"d\",\"e\",'f'])\n",
    "c = pd.Series(a,index=b)\n",
    "print(c)"
   ]
  },
  {
   "cell_type": "markdown",
   "metadata": {},
   "source": [
    "# *Class 5:*"
   ]
  },
  {
   "cell_type": "markdown",
   "metadata": {},
   "source": [
    "## DataFrame:"
   ]
  },
  {
   "cell_type": "code",
   "execution_count": 11,
   "metadata": {},
   "outputs": [
    {
     "name": "stdout",
     "output_type": "stream",
     "text": [
      "   apples  oranges\n",
      "0       3        3\n",
      "1       2        4\n",
      "2       0        7\n",
      "3       1        8\n"
     ]
    }
   ],
   "source": [
    "apples = pd.Series([3,2,0,1])\n",
    "oranges = pd.Series([3,4,7,8])\n",
    "\n",
    "data = {\"apples\":apples,\"oranges\":oranges}\n",
    "fruit_df = pd.DataFrame(data)\n",
    "print(fruit_df)"
   ]
  },
  {
   "cell_type": "code",
   "execution_count": 25,
   "metadata": {},
   "outputs": [
    {
     "name": "stdout",
     "output_type": "stream",
     "text": [
      "      state  year  population\n",
      "1st    Ohio  2000         1.5\n",
      "2nd    Ohio  2001         1.7\n",
      "3rd    Ohio  2002         3.6\n",
      "4th  Nevada  2001         2.4\n",
      "5th  Nevada  2002         2.9\n",
      "6th  Nevada  2003         3.2\n"
     ]
    }
   ],
   "source": [
    "state = ['Ohio', 'Ohio', 'Ohio', 'Nevada', 'Nevada', 'Nevada']\n",
    "year = [2000, 2001, 2002, 2001, 2002, 2003]\n",
    "population = [1.5, 1.7, 3.6, 2.4, 2.9, 3.2]\n",
    "data = {\"state\":state,\"year\":year,\"population\":population}\n",
    "a = pd.DataFrame(data,index = [\"1st\",\"2nd\",\"3rd\",\"4th\",\"5th\",\"6th\"])\n",
    "print(a)"
   ]
  },
  {
   "cell_type": "code",
   "execution_count": 41,
   "metadata": {},
   "outputs": [
    {
     "data": {
      "text/html": [
       "<div>\n",
       "<style scoped>\n",
       "    .dataframe tbody tr th:only-of-type {\n",
       "        vertical-align: middle;\n",
       "    }\n",
       "\n",
       "    .dataframe tbody tr th {\n",
       "        vertical-align: top;\n",
       "    }\n",
       "\n",
       "    .dataframe thead th {\n",
       "        text-align: right;\n",
       "    }\n",
       "</style>\n",
       "<table border=\"1\" class=\"dataframe\">\n",
       "  <thead>\n",
       "    <tr style=\"text-align: right;\">\n",
       "      <th></th>\n",
       "      <th>year</th>\n",
       "      <th>state</th>\n",
       "      <th>population</th>\n",
       "      <th>debt</th>\n",
       "    </tr>\n",
       "  </thead>\n",
       "  <tbody>\n",
       "    <tr>\n",
       "      <th>a</th>\n",
       "      <td>2000</td>\n",
       "      <td>Ohio</td>\n",
       "      <td>NaN</td>\n",
       "      <td>NaN</td>\n",
       "    </tr>\n",
       "    <tr>\n",
       "      <th>b</th>\n",
       "      <td>2001</td>\n",
       "      <td>Ohio</td>\n",
       "      <td>NaN</td>\n",
       "      <td>NaN</td>\n",
       "    </tr>\n",
       "    <tr>\n",
       "      <th>c</th>\n",
       "      <td>2002</td>\n",
       "      <td>Ohio</td>\n",
       "      <td>NaN</td>\n",
       "      <td>NaN</td>\n",
       "    </tr>\n",
       "    <tr>\n",
       "      <th>d</th>\n",
       "      <td>2001</td>\n",
       "      <td>Nevada</td>\n",
       "      <td>NaN</td>\n",
       "      <td>NaN</td>\n",
       "    </tr>\n",
       "    <tr>\n",
       "      <th>e</th>\n",
       "      <td>2002</td>\n",
       "      <td>Nevada</td>\n",
       "      <td>NaN</td>\n",
       "      <td>NaN</td>\n",
       "    </tr>\n",
       "  </tbody>\n",
       "</table>\n",
       "</div>"
      ],
      "text/plain": [
       "   year   state population debt\n",
       "a  2000    Ohio        NaN  NaN\n",
       "b  2001    Ohio        NaN  NaN\n",
       "c  2002    Ohio        NaN  NaN\n",
       "d  2001  Nevada        NaN  NaN\n",
       "e  2002  Nevada        NaN  NaN"
      ]
     },
     "execution_count": 41,
     "metadata": {},
     "output_type": "execute_result"
    }
   ],
   "source": [
    "frame2=pd.DataFrame(data, columns=[\"year\",\"state\",\"population\",\"debt\"],index = [\"a\",\"b\",\"c\",\"d\",\"e\",\"f\"])\n",
    "frame2.head()"
   ]
  },
  {
   "cell_type": "code",
   "execution_count": 42,
   "metadata": {},
   "outputs": [
    {
     "data": {
      "text/plain": [
       "1st      Ohio\n",
       "2nd      Ohio\n",
       "3rd      Ohio\n",
       "4th    Nevada\n",
       "5th    Nevada\n",
       "6th    Nevada\n",
       "Name: state, dtype: object"
      ]
     },
     "execution_count": 42,
     "metadata": {},
     "output_type": "execute_result"
    }
   ],
   "source": [
    "a.state"
   ]
  },
  {
   "cell_type": "code",
   "execution_count": 37,
   "metadata": {},
   "outputs": [
    {
     "data": {
      "text/plain": [
       "1st      Ohio\n",
       "2nd      Ohio\n",
       "3rd      Ohio\n",
       "4th    Nevada\n",
       "5th    Nevada\n",
       "6th    Nevada\n",
       "Name: state, dtype: object"
      ]
     },
     "execution_count": 37,
     "metadata": {},
     "output_type": "execute_result"
    }
   ],
   "source": [
    "a[\"state\"]"
   ]
  },
  {
   "cell_type": "code",
   "execution_count": 43,
   "metadata": {},
   "outputs": [
    {
     "data": {
      "text/html": [
       "<div>\n",
       "<style scoped>\n",
       "    .dataframe tbody tr th:only-of-type {\n",
       "        vertical-align: middle;\n",
       "    }\n",
       "\n",
       "    .dataframe tbody tr th {\n",
       "        vertical-align: top;\n",
       "    }\n",
       "\n",
       "    .dataframe thead th {\n",
       "        text-align: right;\n",
       "    }\n",
       "</style>\n",
       "<table border=\"1\" class=\"dataframe\">\n",
       "  <thead>\n",
       "    <tr style=\"text-align: right;\">\n",
       "      <th></th>\n",
       "      <th>year</th>\n",
       "      <th>state</th>\n",
       "      <th>population</th>\n",
       "      <th>debt</th>\n",
       "    </tr>\n",
       "  </thead>\n",
       "  <tbody>\n",
       "    <tr>\n",
       "      <th>a</th>\n",
       "      <td>2000</td>\n",
       "      <td>Ohio</td>\n",
       "      <td>NaN</td>\n",
       "      <td>20</td>\n",
       "    </tr>\n",
       "    <tr>\n",
       "      <th>b</th>\n",
       "      <td>2001</td>\n",
       "      <td>Ohio</td>\n",
       "      <td>NaN</td>\n",
       "      <td>20</td>\n",
       "    </tr>\n",
       "    <tr>\n",
       "      <th>c</th>\n",
       "      <td>2002</td>\n",
       "      <td>Ohio</td>\n",
       "      <td>NaN</td>\n",
       "      <td>20</td>\n",
       "    </tr>\n",
       "    <tr>\n",
       "      <th>d</th>\n",
       "      <td>2001</td>\n",
       "      <td>Nevada</td>\n",
       "      <td>NaN</td>\n",
       "      <td>20</td>\n",
       "    </tr>\n",
       "    <tr>\n",
       "      <th>e</th>\n",
       "      <td>2002</td>\n",
       "      <td>Nevada</td>\n",
       "      <td>NaN</td>\n",
       "      <td>20</td>\n",
       "    </tr>\n",
       "  </tbody>\n",
       "</table>\n",
       "</div>"
      ],
      "text/plain": [
       "   year   state population  debt\n",
       "a  2000    Ohio        NaN    20\n",
       "b  2001    Ohio        NaN    20\n",
       "c  2002    Ohio        NaN    20\n",
       "d  2001  Nevada        NaN    20\n",
       "e  2002  Nevada        NaN    20"
      ]
     },
     "execution_count": 43,
     "metadata": {},
     "output_type": "execute_result"
    }
   ],
   "source": [
    "frame2['debt'] = 20\n",
    "frame2.head()"
   ]
  },
  {
   "cell_type": "code",
   "execution_count": 40,
   "metadata": {},
   "outputs": [
    {
     "name": "stdout",
     "output_type": "stream",
     "text": [
      "[0 1 2 3 4 5]\n"
     ]
    },
    {
     "data": {
      "text/html": [
       "<div>\n",
       "<style scoped>\n",
       "    .dataframe tbody tr th:only-of-type {\n",
       "        vertical-align: middle;\n",
       "    }\n",
       "\n",
       "    .dataframe tbody tr th {\n",
       "        vertical-align: top;\n",
       "    }\n",
       "\n",
       "    .dataframe thead th {\n",
       "        text-align: right;\n",
       "    }\n",
       "</style>\n",
       "<table border=\"1\" class=\"dataframe\">\n",
       "  <thead>\n",
       "    <tr style=\"text-align: right;\">\n",
       "      <th></th>\n",
       "      <th>year</th>\n",
       "      <th>state</th>\n",
       "      <th>pop</th>\n",
       "      <th>debt</th>\n",
       "    </tr>\n",
       "  </thead>\n",
       "  <tbody>\n",
       "    <tr>\n",
       "      <th>one</th>\n",
       "      <td>2000</td>\n",
       "      <td>Ohio</td>\n",
       "      <td>1.5</td>\n",
       "      <td>0</td>\n",
       "    </tr>\n",
       "    <tr>\n",
       "      <th>two</th>\n",
       "      <td>2001</td>\n",
       "      <td>Ohio</td>\n",
       "      <td>1.7</td>\n",
       "      <td>1</td>\n",
       "    </tr>\n",
       "    <tr>\n",
       "      <th>three</th>\n",
       "      <td>2002</td>\n",
       "      <td>Ohio</td>\n",
       "      <td>3.6</td>\n",
       "      <td>2</td>\n",
       "    </tr>\n",
       "    <tr>\n",
       "      <th>four</th>\n",
       "      <td>2001</td>\n",
       "      <td>Nevada</td>\n",
       "      <td>2.4</td>\n",
       "      <td>3</td>\n",
       "    </tr>\n",
       "    <tr>\n",
       "      <th>five</th>\n",
       "      <td>2002</td>\n",
       "      <td>Nevada</td>\n",
       "      <td>2.9</td>\n",
       "      <td>4</td>\n",
       "    </tr>\n",
       "    <tr>\n",
       "      <th>six</th>\n",
       "      <td>2003</td>\n",
       "      <td>Nevada</td>\n",
       "      <td>3.2</td>\n",
       "      <td>5</td>\n",
       "    </tr>\n",
       "  </tbody>\n",
       "</table>\n",
       "</div>"
      ],
      "text/plain": [
       "       year   state  pop  debt\n",
       "one    2000    Ohio  1.5     0\n",
       "two    2001    Ohio  1.7     1\n",
       "three  2002    Ohio  3.6     2\n",
       "four   2001  Nevada  2.4     3\n",
       "five   2002  Nevada  2.9     4\n",
       "six    2003  Nevada  3.2     5"
      ]
     },
     "execution_count": 40,
     "metadata": {},
     "output_type": "execute_result"
    }
   ],
   "source": [
    "import numpy as np\n",
    "state = ['Ohio', 'Ohio', 'Ohio', 'Nevada', 'Nevada', 'Nevada']\n",
    "\n",
    "data = {'state': state ,\n",
    "        'year' : [2000, 2001, 2002, 2001, 2002, 2003],\n",
    "        'pop'  : [1.5, 1.7, 3.6, 2.4, 2.9, 3.2]}\n",
    "\n",
    "frame2 = pd.DataFrame(data, columns=['year', 'state', 'pop', 'debt'],\n",
    "        index=['one', 'two', 'three', 'four','five', 'six'])\n",
    "\n",
    "ln = len(frame2) # finding now of rows in dataframe\n",
    "#print(frame2)\n",
    "rng = np.arange(ln)\n",
    "print(rng)\n",
    "frame2['debt'] = rng\n",
    "frame2"
   ]
  },
  {
   "cell_type": "code",
   "execution_count": 62,
   "metadata": {},
   "outputs": [
    {
     "data": {
      "text/plain": [
       "2       blue\n",
       "3     purple\n",
       "4     purple\n",
       "5     purple\n",
       "6     yellow\n",
       "7     yellow\n",
       "8     yellow\n",
       "9     yellow\n",
       "10    yellow\n",
       "dtype: object"
      ]
     },
     "execution_count": 62,
     "metadata": {},
     "output_type": "execute_result"
    }
   ],
   "source": [
    "obj3 = pd.Series(['blue', 'purple', 'yellow'], index=[0, 3, 6])\n",
    "#print( obj3 )\n",
    "# might create a new rows\n",
    "#obj3 =obj3.reindex(range(9))\n",
    "#print(obj3)\n",
    "#obj3 =obj3.reindex(range(9), method='ffill' )\n",
    "#print(obj3)\n",
    "obj3 =obj3.reindex(range(2,11), method=\"ffill\")\n",
    "obj3"
   ]
  },
  {
   "cell_type": "code",
   "execution_count": 68,
   "metadata": {},
   "outputs": [
    {
     "name": "stdout",
     "output_type": "stream",
     "text": [
      "   Ohio  Texas  California\n",
      "a     0      1           2\n",
      "b     3      4           5\n",
      "c     6      7           8\n",
      "   Ohio  Texas  California\n",
      "a     0      1           2\n",
      "b     3      4           5\n",
      "c     6      7           8\n",
      "d     6      7           8\n"
     ]
    }
   ],
   "source": [
    "states = pd.DataFrame(np.arange(9).reshape((3, 3)),\n",
    "index=['a', 'b', 'c'], columns=['Ohio', 'Texas', 'California'])\n",
    "print(states)\n",
    "# for your own working, run following statement without ffill\n",
    "states = states.reindex(['a', 'b', 'c', 'd'],method = 'ffill')\n",
    "print(states)"
   ]
  },
  {
   "cell_type": "code",
   "execution_count": 75,
   "metadata": {},
   "outputs": [
    {
     "name": "stdout",
     "output_type": "stream",
     "text": [
      "   Ohio  Texas  California\n",
      "a     0      1           2\n",
      "b     3      4           5\n",
      "c     6      7           8\n",
      "   Texas  Utah  California  Ohio\n",
      "a      1   NaN           2     0\n",
      "b      4   NaN           5     3\n",
      "c      7   NaN           8     6\n"
     ]
    }
   ],
   "source": [
    "# column name changing using reindex method\n",
    "states = pd.DataFrame(np.arange(9).reshape((3, 3) ),\n",
    "index=['a', 'b', 'c'], columns=['Ohio', 'Texas', 'California'])\n",
    "print(states)\n",
    "states_name = ['Texas', 'Utah', 'California','Ohio']\n",
    "# can we user ffill parameter in column reindex mode ?\n",
    "states =states.reindex(columns=states_name)\n",
    "print(states)"
   ]
  },
  {
   "cell_type": "code",
   "execution_count": 83,
   "metadata": {},
   "outputs": [
    {
     "name": "stdout",
     "output_type": "stream",
     "text": [
      "          one  two  three  four\n",
      "Ohio        0    1      2     3\n",
      "Colorado    4    5      6     7\n",
      "Utah        8    9     10    11\n",
      "New York   12   13     14    15 \n",
      "\n",
      "          one  three  four\n",
      "Ohio        0      2     3\n",
      "Colorado    4      6     7\n",
      "Utah        8     10    11\n",
      "New York   12     14    15\n"
     ]
    }
   ],
   "source": [
    "data_df = pd.DataFrame(np.arange(16).reshape((4, 4)), \n",
    "             index=['Ohio', 'Colorado', 'Utah', 'New York'],\n",
    "             columns=['one', 'two', 'three', 'four'])\n",
    "\n",
    "print(data_df, \"\\n\")\n",
    "\n",
    "# dataframe.drop method would return a new dataframe without \n",
    "# having deleted rows. so store its into to dataframe variable\n",
    "# or use inplace=True while droping rows or column\n",
    "\n",
    "#data_df.drop(['Colorado', 'Ohio'], inplace =True)\n",
    "#print(data_df)\n",
    "\n",
    "#You can drop values from the columns by passing axis=1 \n",
    "#or axis='columns' :\n",
    "#data_df = data_df.drop('two', axis=1)\n",
    "data_df.drop('two', axis=1, inplace = True)\n",
    "print(data_df)\n",
    "\n",
    "# if i want to remove a row for example 'Colorado', \n",
    "# how can we do that"
   ]
  },
  {
   "cell_type": "code",
   "execution_count": null,
   "metadata": {},
   "outputs": [],
   "source": []
  }
 ],
 "metadata": {
  "kernelspec": {
   "display_name": "Python 3",
   "language": "python",
   "name": "python3"
  },
  "language_info": {
   "codemirror_mode": {
    "name": "ipython",
    "version": 3
   },
   "file_extension": ".py",
   "mimetype": "text/x-python",
   "name": "python",
   "nbconvert_exporter": "python",
   "pygments_lexer": "ipython3",
   "version": "3.7.3"
  }
 },
 "nbformat": 4,
 "nbformat_minor": 2
}
